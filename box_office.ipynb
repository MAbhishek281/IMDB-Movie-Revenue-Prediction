{
 "cells": [
  {
   "cell_type": "code",
   "execution_count": 203,
   "id": "fdb85a3c",
   "metadata": {
    "id": "fdb85a3c"
   },
   "outputs": [],
   "source": [
    "import numpy as np\n",
    "import pandas as pd\n",
    "import matplotlib.pyplot as plt\n",
    "import seaborn as sns #data visualization library based on matplotlib\n",
    "pd.options.mode.chained_assignment = None  # default='warn'"
   ]
  },
  {
   "cell_type": "code",
   "execution_count": 204,
   "id": "48e3a538",
   "metadata": {
    "id": "48e3a538"
   },
   "outputs": [],
   "source": [
    "df = pd.read_csv(\"IMDB_movie_reviews_details.csv\")"
   ]
  },
  {
   "cell_type": "code",
   "execution_count": 161,
   "id": "6a43ea68",
   "metadata": {
    "colab": {
     "base_uri": "https://localhost:8080/",
     "height": 319
    },
    "id": "6a43ea68",
    "outputId": "d34b552b-fedc-4f72-dc94-6aeb8b761247"
   },
   "outputs": [
    {
     "data": {
      "text/html": [
       "<div>\n",
       "<style scoped>\n",
       "    .dataframe tbody tr th:only-of-type {\n",
       "        vertical-align: middle;\n",
       "    }\n",
       "\n",
       "    .dataframe tbody tr th {\n",
       "        vertical-align: top;\n",
       "    }\n",
       "\n",
       "    .dataframe thead th {\n",
       "        text-align: right;\n",
       "    }\n",
       "</style>\n",
       "<table border=\"1\" class=\"dataframe\">\n",
       "  <thead>\n",
       "    <tr style=\"text-align: right;\">\n",
       "      <th></th>\n",
       "      <th>Unnamed: 0</th>\n",
       "      <th>name</th>\n",
       "      <th>year</th>\n",
       "      <th>runtime</th>\n",
       "      <th>genre</th>\n",
       "      <th>rating</th>\n",
       "      <th>metascore</th>\n",
       "      <th>timeline</th>\n",
       "      <th>votes</th>\n",
       "      <th>gross</th>\n",
       "    </tr>\n",
       "  </thead>\n",
       "  <tbody>\n",
       "    <tr>\n",
       "      <th>0</th>\n",
       "      <td>0</td>\n",
       "      <td>The Shawshank Redemption</td>\n",
       "      <td>1994</td>\n",
       "      <td>142</td>\n",
       "      <td>Drama</td>\n",
       "      <td>9.3</td>\n",
       "      <td>80.0</td>\n",
       "      <td>Two imprisoned men bond over a number of years...</td>\n",
       "      <td>2,394,059</td>\n",
       "      <td>$28.34M</td>\n",
       "    </tr>\n",
       "    <tr>\n",
       "      <th>1</th>\n",
       "      <td>1</td>\n",
       "      <td>The Godfather</td>\n",
       "      <td>1972</td>\n",
       "      <td>175</td>\n",
       "      <td>Crime, Drama</td>\n",
       "      <td>9.2</td>\n",
       "      <td>100.0</td>\n",
       "      <td>An organized crime dynasty's aging patriarch t...</td>\n",
       "      <td>1,658,439</td>\n",
       "      <td>$134.97M</td>\n",
       "    </tr>\n",
       "    <tr>\n",
       "      <th>2</th>\n",
       "      <td>2</td>\n",
       "      <td>Soorarai Pottru</td>\n",
       "      <td>2020</td>\n",
       "      <td>153</td>\n",
       "      <td>Drama</td>\n",
       "      <td>9.1</td>\n",
       "      <td>NaN</td>\n",
       "      <td>Nedumaaran Rajangam \"Maara\" sets out to make t...</td>\n",
       "      <td>78,266</td>\n",
       "      <td>NaN</td>\n",
       "    </tr>\n",
       "    <tr>\n",
       "      <th>3</th>\n",
       "      <td>3</td>\n",
       "      <td>The Dark Knight</td>\n",
       "      <td>2008</td>\n",
       "      <td>152</td>\n",
       "      <td>Action, Crime, Drama</td>\n",
       "      <td>9.0</td>\n",
       "      <td>84.0</td>\n",
       "      <td>When the menace known as the Joker wreaks havo...</td>\n",
       "      <td>2,355,907</td>\n",
       "      <td>$534.86M</td>\n",
       "    </tr>\n",
       "    <tr>\n",
       "      <th>4</th>\n",
       "      <td>4</td>\n",
       "      <td>The Godfather: Part II</td>\n",
       "      <td>1974</td>\n",
       "      <td>202</td>\n",
       "      <td>Crime, Drama</td>\n",
       "      <td>9.0</td>\n",
       "      <td>90.0</td>\n",
       "      <td>The early life and career of Vito Corleone in ...</td>\n",
       "      <td>1,152,912</td>\n",
       "      <td>$57.30M</td>\n",
       "    </tr>\n",
       "  </tbody>\n",
       "</table>\n",
       "</div>"
      ],
      "text/plain": [
       "   Unnamed: 0                      name  year  runtime                 genre  \\\n",
       "0           0  The Shawshank Redemption  1994      142                 Drama   \n",
       "1           1             The Godfather  1972      175          Crime, Drama   \n",
       "2           2           Soorarai Pottru  2020      153                 Drama   \n",
       "3           3           The Dark Knight  2008      152  Action, Crime, Drama   \n",
       "4           4    The Godfather: Part II  1974      202          Crime, Drama   \n",
       "\n",
       "   rating  metascore                                           timeline  \\\n",
       "0     9.3       80.0  Two imprisoned men bond over a number of years...   \n",
       "1     9.2      100.0  An organized crime dynasty's aging patriarch t...   \n",
       "2     9.1        NaN  Nedumaaran Rajangam \"Maara\" sets out to make t...   \n",
       "3     9.0       84.0  When the menace known as the Joker wreaks havo...   \n",
       "4     9.0       90.0  The early life and career of Vito Corleone in ...   \n",
       "\n",
       "       votes     gross  \n",
       "0  2,394,059   $28.34M  \n",
       "1  1,658,439  $134.97M  \n",
       "2     78,266       NaN  \n",
       "3  2,355,907  $534.86M  \n",
       "4  1,152,912   $57.30M  "
      ]
     },
     "execution_count": 161,
     "metadata": {},
     "output_type": "execute_result"
    }
   ],
   "source": [
    "df.head()"
   ]
  },
  {
   "cell_type": "markdown",
   "id": "91bf003a",
   "metadata": {
    "id": "91bf003a"
   },
   "source": []
  },
  {
   "cell_type": "code",
   "execution_count": 162,
   "id": "2a83711a",
   "metadata": {
    "id": "2a83711a"
   },
   "outputs": [],
   "source": [
    "df = df.drop(\"Unnamed: 0\",axis=1)"
   ]
  },
  {
   "cell_type": "code",
   "execution_count": 163,
   "id": "392511be",
   "metadata": {
    "colab": {
     "base_uri": "https://localhost:8080/"
    },
    "id": "392511be",
    "outputId": "c6f64045-7076-44ca-d19e-e0b242432f75"
   },
   "outputs": [
    {
     "data": {
      "text/plain": [
       "array(['1994', '1972', '2020', '2008', '1974', '1957', '2003', '1993',\n",
       "       '2010', '1999', '2001', '1966', '2002', '1990', '1980', '1975',\n",
       "       '2019', '2014', '1998', '1997', '1995', '1991', '1977', '1962',\n",
       "       '1954', '1946', '2018', '2011', '2006', '2000', '1988', '1985',\n",
       "       '1968', '1960', '1942', '1936', '1931', '2017', '2016', 'I 2017',\n",
       "       '2012', '2009', '2007', '1984', '1981', '1979', '1963', '1964',\n",
       "       '1950', '1940', '2013', 'I 2020', '2005', '2004', '1992', '1987',\n",
       "       '1986', '1983', '1976', '1973', '1971', '1959', '1958', '1952',\n",
       "       '1948', '1944', '1941', '1927', '1921', '2015', '2021', '1996',\n",
       "       '1989', '1978', '1965', '1961', '1953', '1925', '1924', 'III 2016',\n",
       "       'I 2014', 'I 2015', 'I 2013', '1982', '1967', '1955', '1951',\n",
       "       '1949', '1939', '1937', '1934', '1930', '1928', '1926', '1920',\n",
       "       'I 2004', '1970', '1969', '1956', '1947', '1945', '1943',\n",
       "       'II 2016', 'I 2011', 'I 2001', '1938', '1935', '1933', '1932',\n",
       "       '1922', 'I 2010', 'I 2008', 'I 2007', 'I 1985', 'III 2018',\n",
       "       'II 2015', 'I 2016', 'I 1995'], dtype=object)"
      ]
     },
     "execution_count": 163,
     "metadata": {},
     "output_type": "execute_result"
    }
   ],
   "source": [
    "df.year.unique()"
   ]
  },
  {
   "cell_type": "code",
   "execution_count": 164,
   "id": "ed2ecdaf",
   "metadata": {
    "colab": {
     "base_uri": "https://localhost:8080/"
    },
    "id": "ed2ecdaf",
    "outputId": "e7bbafea-8304-48f6-d0c8-4690dd932016"
   },
   "outputs": [
    {
     "data": {
      "text/plain": [
       "array([9.3, 9.2, 9.1, 9. , 8.9, 8.8, 8.7, 8.6, 8.5, 8.4, 8.3, 8.2, 8.1,\n",
       "       8. , 7.9, 7.8, 7.7, 7.6])"
      ]
     },
     "execution_count": 164,
     "metadata": {},
     "output_type": "execute_result"
    }
   ],
   "source": [
    "df.rating.unique()"
   ]
  },
  {
   "cell_type": "code",
   "execution_count": 165,
   "id": "04b883ce",
   "metadata": {
    "colab": {
     "base_uri": "https://localhost:8080/",
     "height": 206
    },
    "id": "04b883ce",
    "outputId": "825ea4d6-28dd-4209-fcda-991e618da9e1"
   },
   "outputs": [
    {
     "data": {
      "text/html": [
       "<div>\n",
       "<style scoped>\n",
       "    .dataframe tbody tr th:only-of-type {\n",
       "        vertical-align: middle;\n",
       "    }\n",
       "\n",
       "    .dataframe tbody tr th {\n",
       "        vertical-align: top;\n",
       "    }\n",
       "\n",
       "    .dataframe thead th {\n",
       "        text-align: right;\n",
       "    }\n",
       "</style>\n",
       "<table border=\"1\" class=\"dataframe\">\n",
       "  <thead>\n",
       "    <tr style=\"text-align: right;\">\n",
       "      <th></th>\n",
       "      <th>name</th>\n",
       "      <th>year</th>\n",
       "      <th>runtime</th>\n",
       "      <th>genre</th>\n",
       "      <th>rating</th>\n",
       "      <th>metascore</th>\n",
       "      <th>timeline</th>\n",
       "      <th>votes</th>\n",
       "      <th>gross</th>\n",
       "    </tr>\n",
       "  </thead>\n",
       "  <tbody>\n",
       "    <tr>\n",
       "      <th>0</th>\n",
       "      <td>The Shawshank Redemption</td>\n",
       "      <td>1994</td>\n",
       "      <td>142</td>\n",
       "      <td>Drama</td>\n",
       "      <td>9.3</td>\n",
       "      <td>80.0</td>\n",
       "      <td>Two imprisoned men bond over a number of years...</td>\n",
       "      <td>2,394,059</td>\n",
       "      <td>$28.34M</td>\n",
       "    </tr>\n",
       "    <tr>\n",
       "      <th>1</th>\n",
       "      <td>The Godfather</td>\n",
       "      <td>1972</td>\n",
       "      <td>175</td>\n",
       "      <td>Crime, Drama</td>\n",
       "      <td>9.2</td>\n",
       "      <td>100.0</td>\n",
       "      <td>An organized crime dynasty's aging patriarch t...</td>\n",
       "      <td>1,658,439</td>\n",
       "      <td>$134.97M</td>\n",
       "    </tr>\n",
       "    <tr>\n",
       "      <th>2</th>\n",
       "      <td>Soorarai Pottru</td>\n",
       "      <td>2020</td>\n",
       "      <td>153</td>\n",
       "      <td>Drama</td>\n",
       "      <td>9.1</td>\n",
       "      <td>NaN</td>\n",
       "      <td>Nedumaaran Rajangam \"Maara\" sets out to make t...</td>\n",
       "      <td>78,266</td>\n",
       "      <td>NaN</td>\n",
       "    </tr>\n",
       "    <tr>\n",
       "      <th>3</th>\n",
       "      <td>The Dark Knight</td>\n",
       "      <td>2008</td>\n",
       "      <td>152</td>\n",
       "      <td>Action, Crime, Drama</td>\n",
       "      <td>9.0</td>\n",
       "      <td>84.0</td>\n",
       "      <td>When the menace known as the Joker wreaks havo...</td>\n",
       "      <td>2,355,907</td>\n",
       "      <td>$534.86M</td>\n",
       "    </tr>\n",
       "    <tr>\n",
       "      <th>4</th>\n",
       "      <td>The Godfather: Part II</td>\n",
       "      <td>1974</td>\n",
       "      <td>202</td>\n",
       "      <td>Crime, Drama</td>\n",
       "      <td>9.0</td>\n",
       "      <td>90.0</td>\n",
       "      <td>The early life and career of Vito Corleone in ...</td>\n",
       "      <td>1,152,912</td>\n",
       "      <td>$57.30M</td>\n",
       "    </tr>\n",
       "  </tbody>\n",
       "</table>\n",
       "</div>"
      ],
      "text/plain": [
       "                       name  year  runtime                 genre  rating  \\\n",
       "0  The Shawshank Redemption  1994      142                 Drama     9.3   \n",
       "1             The Godfather  1972      175          Crime, Drama     9.2   \n",
       "2           Soorarai Pottru  2020      153                 Drama     9.1   \n",
       "3           The Dark Knight  2008      152  Action, Crime, Drama     9.0   \n",
       "4    The Godfather: Part II  1974      202          Crime, Drama     9.0   \n",
       "\n",
       "   metascore                                           timeline      votes  \\\n",
       "0       80.0  Two imprisoned men bond over a number of years...  2,394,059   \n",
       "1      100.0  An organized crime dynasty's aging patriarch t...  1,658,439   \n",
       "2        NaN  Nedumaaran Rajangam \"Maara\" sets out to make t...     78,266   \n",
       "3       84.0  When the menace known as the Joker wreaks havo...  2,355,907   \n",
       "4       90.0  The early life and career of Vito Corleone in ...  1,152,912   \n",
       "\n",
       "      gross  \n",
       "0   $28.34M  \n",
       "1  $134.97M  \n",
       "2       NaN  \n",
       "3  $534.86M  \n",
       "4   $57.30M  "
      ]
     },
     "execution_count": 165,
     "metadata": {},
     "output_type": "execute_result"
    }
   ],
   "source": [
    "df.head()"
   ]
  },
  {
   "cell_type": "code",
   "execution_count": 166,
   "id": "5a15cf36",
   "metadata": {
    "colab": {
     "base_uri": "https://localhost:8080/"
    },
    "id": "5a15cf36",
    "outputId": "918f4a87-2145-4af1-e2fd-0abf8000d501"
   },
   "outputs": [
    {
     "data": {
      "text/plain": [
       "(1000, 9)"
      ]
     },
     "execution_count": 166,
     "metadata": {},
     "output_type": "execute_result"
    }
   ],
   "source": [
    "df.shape"
   ]
  },
  {
   "cell_type": "code",
   "execution_count": 167,
   "id": "3a7ce4b5",
   "metadata": {
    "colab": {
     "base_uri": "https://localhost:8080/"
    },
    "id": "3a7ce4b5",
    "outputId": "d3024f62-2e7c-4151-affc-0d6a30c36836",
    "scrolled": false
   },
   "outputs": [
    {
     "name": "stdout",
     "output_type": "stream",
     "text": [
      "<class 'pandas.core.frame.DataFrame'>\n",
      "RangeIndex: 1000 entries, 0 to 999\n",
      "Data columns (total 9 columns):\n",
      " #   Column     Non-Null Count  Dtype  \n",
      "---  ------     --------------  -----  \n",
      " 0   name       1000 non-null   object \n",
      " 1   year       1000 non-null   object \n",
      " 2   runtime    1000 non-null   int64  \n",
      " 3   genre      1000 non-null   object \n",
      " 4   rating     1000 non-null   float64\n",
      " 5   metascore  841 non-null    float64\n",
      " 6   timeline   1000 non-null   object \n",
      " 7   votes      1000 non-null   object \n",
      " 8   gross      829 non-null    object \n",
      "dtypes: float64(2), int64(1), object(6)\n",
      "memory usage: 70.4+ KB\n"
     ]
    }
   ],
   "source": [
    "df.info()"
   ]
  },
  {
   "cell_type": "code",
   "execution_count": 168,
   "id": "d8d1c2a0",
   "metadata": {
    "colab": {
     "base_uri": "https://localhost:8080/"
    },
    "id": "d8d1c2a0",
    "outputId": "c254b2fe-4592-42b4-e419-0084d653071f"
   },
   "outputs": [],
   "source": [
    "# There are some unrelevant character in the values of year column like \"II 1994 or III 2002\".So, trying to remove those characters.\n",
    "\n",
    "for i in range(0,len(df.year)):\n",
    "    if('III ' in df.year[i] or 'I' in df.year[i] or 'II' in df.year[i] or 'I ' in df.year[i] or 'II ' in df.year[i]):\n",
    "        df.year[i] = df.year[i].replace(\"I\",\"\").replace(\" \",\"\")"
   ]
  },
  {
   "cell_type": "code",
   "execution_count": 169,
   "id": "6771f8ba",
   "metadata": {
    "colab": {
     "base_uri": "https://localhost:8080/"
    },
    "id": "6771f8ba",
    "outputId": "83da257d-1b46-489c-8b25-43c114ce265a"
   },
   "outputs": [
    {
     "data": {
      "text/plain": [
       "array(['1994', '1972', '2020', '2008', '1974', '1957', '2003', '1993',\n",
       "       '2010', '1999', '2001', '1966', '2002', '1990', '1980', '1975',\n",
       "       '2019', '2014', '1998', '1997', '1995', '1991', '1977', '1962',\n",
       "       '1954', '1946', '2018', '2011', '2006', '2000', '1988', '1985',\n",
       "       '1968', '1960', '1942', '1936', '1931', '2017', '2016', '2012',\n",
       "       '2009', '2007', '1984', '1981', '1979', '1963', '1964', '1950',\n",
       "       '1940', '2013', '2005', '2004', '1992', '1987', '1986', '1983',\n",
       "       '1976', '1973', '1971', '1959', '1958', '1952', '1948', '1944',\n",
       "       '1941', '1927', '1921', '2015', '2021', '1996', '1989', '1978',\n",
       "       '1965', '1961', '1953', '1925', '1924', '1982', '1967', '1955',\n",
       "       '1951', '1949', '1939', '1937', '1934', '1930', '1928', '1926',\n",
       "       '1920', '1970', '1969', '1956', '1947', '1945', '1943', '1938',\n",
       "       '1935', '1933', '1932', '1922'], dtype=object)"
      ]
     },
     "execution_count": 169,
     "metadata": {},
     "output_type": "execute_result"
    }
   ],
   "source": [
    "df.year.unique()"
   ]
  },
  {
   "cell_type": "code",
   "execution_count": 170,
   "id": "a4888c85",
   "metadata": {
    "colab": {
     "base_uri": "https://localhost:8080/"
    },
    "id": "a4888c85",
    "outputId": "8e385a04-b2be-4bcd-d17b-3924316edc6f"
   },
   "outputs": [
    {
     "data": {
      "text/plain": [
       "100"
      ]
     },
     "execution_count": 170,
     "metadata": {},
     "output_type": "execute_result"
    }
   ],
   "source": [
    "len(df.year.unique())"
   ]
  },
  {
   "cell_type": "code",
   "execution_count": 171,
   "id": "80cba931",
   "metadata": {
    "colab": {
     "base_uri": "https://localhost:8080/"
    },
    "id": "80cba931",
    "outputId": "54f53933-6d96-461a-83a1-332a8b2191e0"
   },
   "outputs": [
    {
     "data": {
      "text/plain": [
       "997"
      ]
     },
     "execution_count": 171,
     "metadata": {},
     "output_type": "execute_result"
    }
   ],
   "source": [
    "len(df.name.unique())"
   ]
  },
  {
   "cell_type": "code",
   "execution_count": 172,
   "id": "x_NDY4QGgfKg",
   "metadata": {
    "colab": {
     "base_uri": "https://localhost:8080/",
     "height": 423
    },
    "id": "x_NDY4QGgfKg",
    "outputId": "ac9585a7-6837-4c41-c126-d3095ffa33de"
   },
   "outputs": [
    {
     "data": {
      "text/html": [
       "<div>\n",
       "<style scoped>\n",
       "    .dataframe tbody tr th:only-of-type {\n",
       "        vertical-align: middle;\n",
       "    }\n",
       "\n",
       "    .dataframe tbody tr th {\n",
       "        vertical-align: top;\n",
       "    }\n",
       "\n",
       "    .dataframe thead th {\n",
       "        text-align: right;\n",
       "    }\n",
       "</style>\n",
       "<table border=\"1\" class=\"dataframe\">\n",
       "  <thead>\n",
       "    <tr style=\"text-align: right;\">\n",
       "      <th></th>\n",
       "      <th>index</th>\n",
       "      <th>year</th>\n",
       "    </tr>\n",
       "  </thead>\n",
       "  <tbody>\n",
       "    <tr>\n",
       "      <th>0</th>\n",
       "      <td>2004</td>\n",
       "      <td>33</td>\n",
       "    </tr>\n",
       "    <tr>\n",
       "      <th>1</th>\n",
       "      <td>2014</td>\n",
       "      <td>31</td>\n",
       "    </tr>\n",
       "    <tr>\n",
       "      <th>2</th>\n",
       "      <td>2009</td>\n",
       "      <td>29</td>\n",
       "    </tr>\n",
       "    <tr>\n",
       "      <th>3</th>\n",
       "      <td>2016</td>\n",
       "      <td>28</td>\n",
       "    </tr>\n",
       "    <tr>\n",
       "      <th>4</th>\n",
       "      <td>2013</td>\n",
       "      <td>28</td>\n",
       "    </tr>\n",
       "    <tr>\n",
       "      <th>...</th>\n",
       "      <td>...</td>\n",
       "      <td>...</td>\n",
       "    </tr>\n",
       "    <tr>\n",
       "      <th>95</th>\n",
       "      <td>1926</td>\n",
       "      <td>1</td>\n",
       "    </tr>\n",
       "    <tr>\n",
       "      <th>96</th>\n",
       "      <td>1930</td>\n",
       "      <td>1</td>\n",
       "    </tr>\n",
       "    <tr>\n",
       "      <th>97</th>\n",
       "      <td>1936</td>\n",
       "      <td>1</td>\n",
       "    </tr>\n",
       "    <tr>\n",
       "      <th>98</th>\n",
       "      <td>1924</td>\n",
       "      <td>1</td>\n",
       "    </tr>\n",
       "    <tr>\n",
       "      <th>99</th>\n",
       "      <td>1922</td>\n",
       "      <td>1</td>\n",
       "    </tr>\n",
       "  </tbody>\n",
       "</table>\n",
       "<p>100 rows × 2 columns</p>\n",
       "</div>"
      ],
      "text/plain": [
       "   index  year\n",
       "0   2004    33\n",
       "1   2014    31\n",
       "2   2009    29\n",
       "3   2016    28\n",
       "4   2013    28\n",
       "..   ...   ...\n",
       "95  1926     1\n",
       "96  1930     1\n",
       "97  1936     1\n",
       "98  1924     1\n",
       "99  1922     1\n",
       "\n",
       "[100 rows x 2 columns]"
      ]
     },
     "execution_count": 172,
     "metadata": {},
     "output_type": "execute_result"
    }
   ],
   "source": [
    "data = pd.DataFrame(df[\"year\"].value_counts())\n",
    "data = data.reset_index()\n",
    "data"
   ]
  },
  {
   "cell_type": "code",
   "execution_count": 173,
   "id": "64073aa6",
   "metadata": {
    "colab": {
     "base_uri": "https://localhost:8080/",
     "height": 609
    },
    "id": "64073aa6",
    "outputId": "5d7bfbe6-0f75-4b4f-85df-bbcf84168e04",
    "scrolled": true
   },
   "outputs": [
    {
     "data": {
      "text/plain": [
       "<BarContainer object of 40 artists>"
      ]
     },
     "execution_count": 173,
     "metadata": {},
     "output_type": "execute_result"
    },
    {
     "data": {
      "image/png": "[encoded data removed]",
      "text/plain": [
       "<Figure size 2000x1000 with 1 Axes>"
      ]
     },
     "metadata": {},
     "output_type": "display_data"
    }
   ],
   "source": [
    "# Creating a Bar graph to show which year have more movie releases.\n",
    "\n",
    "data = pd.DataFrame(df[\"year\"].value_counts())\n",
    "data = data.reset_index()\n",
    "data = data.rename(columns = {\"index\":\"Year\",\"year\":\"Count\"})\n",
    "\n",
    "plt.figure(figsize=(20,10))\n",
    "plt.bar(data[\"Year\"][0:40],data[\"Count\"][0:40])"
   ]
  },
  {
   "cell_type": "code",
   "execution_count": null,
   "id": "19673c60",
   "metadata": {
    "id": "19673c60"
   },
   "outputs": [],
   "source": []
  },
  {
   "cell_type": "code",
   "execution_count": 174,
   "id": "61a26a89",
   "metadata": {
    "colab": {
     "base_uri": "https://localhost:8080/",
     "height": 467
    },
    "id": "61a26a89",
    "outputId": "e189198a-7f81-4dde-8b51-ad79888bacdc"
   },
   "outputs": [
    {
     "data": {
      "text/html": [
       "<div>\n",
       "<style scoped>\n",
       "    .dataframe tbody tr th:only-of-type {\n",
       "        vertical-align: middle;\n",
       "    }\n",
       "\n",
       "    .dataframe tbody tr th {\n",
       "        vertical-align: top;\n",
       "    }\n",
       "\n",
       "    .dataframe thead th {\n",
       "        text-align: right;\n",
       "    }\n",
       "</style>\n",
       "<table border=\"1\" class=\"dataframe\">\n",
       "  <thead>\n",
       "    <tr style=\"text-align: right;\">\n",
       "      <th></th>\n",
       "      <th>name</th>\n",
       "      <th>year</th>\n",
       "      <th>runtime</th>\n",
       "      <th>genre</th>\n",
       "      <th>rating</th>\n",
       "      <th>metascore</th>\n",
       "      <th>timeline</th>\n",
       "      <th>votes</th>\n",
       "      <th>gross</th>\n",
       "    </tr>\n",
       "  </thead>\n",
       "  <tbody>\n",
       "    <tr>\n",
       "      <th>0</th>\n",
       "      <td>The Shawshank Redemption</td>\n",
       "      <td>1994</td>\n",
       "      <td>142</td>\n",
       "      <td>Drama</td>\n",
       "      <td>9.3</td>\n",
       "      <td>80.0</td>\n",
       "      <td>Two imprisoned men bond over a number of years...</td>\n",
       "      <td>2,394,059</td>\n",
       "      <td>$28.34M</td>\n",
       "    </tr>\n",
       "    <tr>\n",
       "      <th>1</th>\n",
       "      <td>The Godfather</td>\n",
       "      <td>1972</td>\n",
       "      <td>175</td>\n",
       "      <td>Crime, Drama</td>\n",
       "      <td>9.2</td>\n",
       "      <td>100.0</td>\n",
       "      <td>An organized crime dynasty's aging patriarch t...</td>\n",
       "      <td>1,658,439</td>\n",
       "      <td>$134.97M</td>\n",
       "    </tr>\n",
       "    <tr>\n",
       "      <th>2</th>\n",
       "      <td>Soorarai Pottru</td>\n",
       "      <td>2020</td>\n",
       "      <td>153</td>\n",
       "      <td>Drama</td>\n",
       "      <td>9.1</td>\n",
       "      <td>NaN</td>\n",
       "      <td>Nedumaaran Rajangam \"Maara\" sets out to make t...</td>\n",
       "      <td>78,266</td>\n",
       "      <td>NaN</td>\n",
       "    </tr>\n",
       "    <tr>\n",
       "      <th>3</th>\n",
       "      <td>The Dark Knight</td>\n",
       "      <td>2008</td>\n",
       "      <td>152</td>\n",
       "      <td>Action, Crime, Drama</td>\n",
       "      <td>9.0</td>\n",
       "      <td>84.0</td>\n",
       "      <td>When the menace known as the Joker wreaks havo...</td>\n",
       "      <td>2,355,907</td>\n",
       "      <td>$534.86M</td>\n",
       "    </tr>\n",
       "    <tr>\n",
       "      <th>4</th>\n",
       "      <td>The Godfather: Part II</td>\n",
       "      <td>1974</td>\n",
       "      <td>202</td>\n",
       "      <td>Crime, Drama</td>\n",
       "      <td>9.0</td>\n",
       "      <td>90.0</td>\n",
       "      <td>The early life and career of Vito Corleone in ...</td>\n",
       "      <td>1,152,912</td>\n",
       "      <td>$57.30M</td>\n",
       "    </tr>\n",
       "    <tr>\n",
       "      <th>...</th>\n",
       "      <td>...</td>\n",
       "      <td>...</td>\n",
       "      <td>...</td>\n",
       "      <td>...</td>\n",
       "      <td>...</td>\n",
       "      <td>...</td>\n",
       "      <td>...</td>\n",
       "      <td>...</td>\n",
       "      <td>...</td>\n",
       "    </tr>\n",
       "    <tr>\n",
       "      <th>995</th>\n",
       "      <td>Breakfast at Tiffany's</td>\n",
       "      <td>1961</td>\n",
       "      <td>115</td>\n",
       "      <td>Comedy, Drama, Romance</td>\n",
       "      <td>7.6</td>\n",
       "      <td>76.0</td>\n",
       "      <td>A young New York socialite becomes interested ...</td>\n",
       "      <td>169,575</td>\n",
       "      <td>NaN</td>\n",
       "    </tr>\n",
       "    <tr>\n",
       "      <th>996</th>\n",
       "      <td>Giant</td>\n",
       "      <td>1956</td>\n",
       "      <td>201</td>\n",
       "      <td>Drama, Western</td>\n",
       "      <td>7.6</td>\n",
       "      <td>84.0</td>\n",
       "      <td>Sprawling epic covering the life of a Texas ca...</td>\n",
       "      <td>34,759</td>\n",
       "      <td>NaN</td>\n",
       "    </tr>\n",
       "    <tr>\n",
       "      <th>997</th>\n",
       "      <td>Shane</td>\n",
       "      <td>1953</td>\n",
       "      <td>118</td>\n",
       "      <td>Drama, Western</td>\n",
       "      <td>7.6</td>\n",
       "      <td>80.0</td>\n",
       "      <td>A weary gunfighter attempts to settle down wit...</td>\n",
       "      <td>37,753</td>\n",
       "      <td>$20.00M</td>\n",
       "    </tr>\n",
       "    <tr>\n",
       "      <th>998</th>\n",
       "      <td>From Here to Eternity</td>\n",
       "      <td>1953</td>\n",
       "      <td>118</td>\n",
       "      <td>Drama, Romance, War</td>\n",
       "      <td>7.6</td>\n",
       "      <td>85.0</td>\n",
       "      <td>In Hawaii in 1941, a private is cruelly punish...</td>\n",
       "      <td>44,086</td>\n",
       "      <td>$30.50M</td>\n",
       "    </tr>\n",
       "    <tr>\n",
       "      <th>999</th>\n",
       "      <td>Lifeboat</td>\n",
       "      <td>1944</td>\n",
       "      <td>97</td>\n",
       "      <td>Drama, War</td>\n",
       "      <td>7.6</td>\n",
       "      <td>78.0</td>\n",
       "      <td>Several survivors of a torpedoed merchant ship...</td>\n",
       "      <td>26,903</td>\n",
       "      <td>NaN</td>\n",
       "    </tr>\n",
       "  </tbody>\n",
       "</table>\n",
       "<p>1000 rows × 9 columns</p>\n",
       "</div>"
      ],
      "text/plain": [
       "                         name  year  runtime                   genre  rating  \\\n",
       "0    The Shawshank Redemption  1994      142                   Drama     9.3   \n",
       "1               The Godfather  1972      175            Crime, Drama     9.2   \n",
       "2             Soorarai Pottru  2020      153                   Drama     9.1   \n",
       "3             The Dark Knight  2008      152    Action, Crime, Drama     9.0   \n",
       "4      The Godfather: Part II  1974      202            Crime, Drama     9.0   \n",
       "..                        ...   ...      ...                     ...     ...   \n",
       "995    Breakfast at Tiffany's  1961      115  Comedy, Drama, Romance     7.6   \n",
       "996                     Giant  1956      201          Drama, Western     7.6   \n",
       "997                     Shane  1953      118          Drama, Western     7.6   \n",
       "998     From Here to Eternity  1953      118     Drama, Romance, War     7.6   \n",
       "999                  Lifeboat  1944       97              Drama, War     7.6   \n",
       "\n",
       "     metascore                                           timeline      votes  \\\n",
       "0         80.0  Two imprisoned men bond over a number of years...  2,394,059   \n",
       "1        100.0  An organized crime dynasty's aging patriarch t...  1,658,439   \n",
       "2          NaN  Nedumaaran Rajangam \"Maara\" sets out to make t...     78,266   \n",
       "3         84.0  When the menace known as the Joker wreaks havo...  2,355,907   \n",
       "4         90.0  The early life and career of Vito Corleone in ...  1,152,912   \n",
       "..         ...                                                ...        ...   \n",
       "995       76.0  A young New York socialite becomes interested ...    169,575   \n",
       "996       84.0  Sprawling epic covering the life of a Texas ca...     34,759   \n",
       "997       80.0  A weary gunfighter attempts to settle down wit...     37,753   \n",
       "998       85.0  In Hawaii in 1941, a private is cruelly punish...     44,086   \n",
       "999       78.0  Several survivors of a torpedoed merchant ship...     26,903   \n",
       "\n",
       "        gross  \n",
       "0     $28.34M  \n",
       "1    $134.97M  \n",
       "2         NaN  \n",
       "3    $534.86M  \n",
       "4     $57.30M  \n",
       "..        ...  \n",
       "995       NaN  \n",
       "996       NaN  \n",
       "997   $20.00M  \n",
       "998   $30.50M  \n",
       "999       NaN  \n",
       "\n",
       "[1000 rows x 9 columns]"
      ]
     },
     "execution_count": 174,
     "metadata": {},
     "output_type": "execute_result"
    }
   ],
   "source": [
    "df"
   ]
  },
  {
   "cell_type": "markdown",
   "id": "dbb43393",
   "metadata": {
    "id": "dbb43393"
   },
   "source": []
  },
  {
   "cell_type": "code",
   "execution_count": 175,
   "id": "21df6770",
   "metadata": {
    "colab": {
     "base_uri": "https://localhost:8080/",
     "height": 520
    },
    "id": "21df6770",
    "outputId": "cf8b296b-55ee-49a3-bf15-66375277bc80"
   },
   "outputs": [
    {
     "data": {
      "text/html": [
       "<div>\n",
       "<style scoped>\n",
       "    .dataframe tbody tr th:only-of-type {\n",
       "        vertical-align: middle;\n",
       "    }\n",
       "\n",
       "    .dataframe tbody tr th {\n",
       "        vertical-align: top;\n",
       "    }\n",
       "\n",
       "    .dataframe thead th {\n",
       "        text-align: right;\n",
       "    }\n",
       "</style>\n",
       "<table border=\"1\" class=\"dataframe\">\n",
       "  <thead>\n",
       "    <tr style=\"text-align: right;\">\n",
       "      <th></th>\n",
       "      <th>name</th>\n",
       "      <th>year</th>\n",
       "      <th>runtime</th>\n",
       "      <th>genre</th>\n",
       "      <th>rating</th>\n",
       "      <th>metascore</th>\n",
       "      <th>timeline</th>\n",
       "      <th>votes</th>\n",
       "      <th>gross</th>\n",
       "    </tr>\n",
       "  </thead>\n",
       "  <tbody>\n",
       "    <tr>\n",
       "      <th>0</th>\n",
       "      <td>The Shawshank Redemption</td>\n",
       "      <td>1994</td>\n",
       "      <td>142</td>\n",
       "      <td>Drama</td>\n",
       "      <td>9.3</td>\n",
       "      <td>80.0</td>\n",
       "      <td>Two imprisoned men bond over a number of years...</td>\n",
       "      <td>2,394,059</td>\n",
       "      <td>$28.34M</td>\n",
       "    </tr>\n",
       "    <tr>\n",
       "      <th>1</th>\n",
       "      <td>The Godfather</td>\n",
       "      <td>1972</td>\n",
       "      <td>175</td>\n",
       "      <td>Crime, Drama</td>\n",
       "      <td>9.2</td>\n",
       "      <td>100.0</td>\n",
       "      <td>An organized crime dynasty's aging patriarch t...</td>\n",
       "      <td>1,658,439</td>\n",
       "      <td>$134.97M</td>\n",
       "    </tr>\n",
       "    <tr>\n",
       "      <th>3</th>\n",
       "      <td>The Dark Knight</td>\n",
       "      <td>2008</td>\n",
       "      <td>152</td>\n",
       "      <td>Action, Crime, Drama</td>\n",
       "      <td>9.0</td>\n",
       "      <td>84.0</td>\n",
       "      <td>When the menace known as the Joker wreaks havo...</td>\n",
       "      <td>2,355,907</td>\n",
       "      <td>$534.86M</td>\n",
       "    </tr>\n",
       "    <tr>\n",
       "      <th>4</th>\n",
       "      <td>The Godfather: Part II</td>\n",
       "      <td>1974</td>\n",
       "      <td>202</td>\n",
       "      <td>Crime, Drama</td>\n",
       "      <td>9.0</td>\n",
       "      <td>90.0</td>\n",
       "      <td>The early life and career of Vito Corleone in ...</td>\n",
       "      <td>1,152,912</td>\n",
       "      <td>$57.30M</td>\n",
       "    </tr>\n",
       "    <tr>\n",
       "      <th>5</th>\n",
       "      <td>12 Angry Men</td>\n",
       "      <td>1957</td>\n",
       "      <td>96</td>\n",
       "      <td>Crime, Drama</td>\n",
       "      <td>9.0</td>\n",
       "      <td>96.0</td>\n",
       "      <td>A jury holdout attempts to prevent a miscarria...</td>\n",
       "      <td>706,079</td>\n",
       "      <td>$4.36M</td>\n",
       "    </tr>\n",
       "    <tr>\n",
       "      <th>...</th>\n",
       "      <td>...</td>\n",
       "      <td>...</td>\n",
       "      <td>...</td>\n",
       "      <td>...</td>\n",
       "      <td>...</td>\n",
       "      <td>...</td>\n",
       "      <td>...</td>\n",
       "      <td>...</td>\n",
       "      <td>...</td>\n",
       "    </tr>\n",
       "    <tr>\n",
       "      <th>991</th>\n",
       "      <td>Kelly's Heroes</td>\n",
       "      <td>1970</td>\n",
       "      <td>144</td>\n",
       "      <td>Adventure, Comedy, War</td>\n",
       "      <td>7.6</td>\n",
       "      <td>50.0</td>\n",
       "      <td>A group of U.S. soldiers sneaks across enemy l...</td>\n",
       "      <td>45,985</td>\n",
       "      <td>$1.38M</td>\n",
       "    </tr>\n",
       "    <tr>\n",
       "      <th>993</th>\n",
       "      <td>The Jungle Book</td>\n",
       "      <td>1967</td>\n",
       "      <td>78</td>\n",
       "      <td>Animation, Adventure, Family</td>\n",
       "      <td>7.6</td>\n",
       "      <td>65.0</td>\n",
       "      <td>Bagheera the Panther and Baloo the Bear have a...</td>\n",
       "      <td>168,985</td>\n",
       "      <td>$141.84M</td>\n",
       "    </tr>\n",
       "    <tr>\n",
       "      <th>994</th>\n",
       "      <td>A Hard Day's Night</td>\n",
       "      <td>1964</td>\n",
       "      <td>87</td>\n",
       "      <td>Comedy, Musical</td>\n",
       "      <td>7.6</td>\n",
       "      <td>96.0</td>\n",
       "      <td>Over two \"typical\" days in the life of The Bea...</td>\n",
       "      <td>40,931</td>\n",
       "      <td>$13.78M</td>\n",
       "    </tr>\n",
       "    <tr>\n",
       "      <th>997</th>\n",
       "      <td>Shane</td>\n",
       "      <td>1953</td>\n",
       "      <td>118</td>\n",
       "      <td>Drama, Western</td>\n",
       "      <td>7.6</td>\n",
       "      <td>80.0</td>\n",
       "      <td>A weary gunfighter attempts to settle down wit...</td>\n",
       "      <td>37,753</td>\n",
       "      <td>$20.00M</td>\n",
       "    </tr>\n",
       "    <tr>\n",
       "      <th>998</th>\n",
       "      <td>From Here to Eternity</td>\n",
       "      <td>1953</td>\n",
       "      <td>118</td>\n",
       "      <td>Drama, Romance, War</td>\n",
       "      <td>7.6</td>\n",
       "      <td>85.0</td>\n",
       "      <td>In Hawaii in 1941, a private is cruelly punish...</td>\n",
       "      <td>44,086</td>\n",
       "      <td>$30.50M</td>\n",
       "    </tr>\n",
       "  </tbody>\n",
       "</table>\n",
       "<p>747 rows × 9 columns</p>\n",
       "</div>"
      ],
      "text/plain": [
       "                         name  year  runtime                         genre  \\\n",
       "0    The Shawshank Redemption  1994      142                         Drama   \n",
       "1               The Godfather  1972      175                  Crime, Drama   \n",
       "3             The Dark Knight  2008      152          Action, Crime, Drama   \n",
       "4      The Godfather: Part II  1974      202                  Crime, Drama   \n",
       "5                12 Angry Men  1957       96                  Crime, Drama   \n",
       "..                        ...   ...      ...                           ...   \n",
       "991            Kelly's Heroes  1970      144        Adventure, Comedy, War   \n",
       "993           The Jungle Book  1967       78  Animation, Adventure, Family   \n",
       "994        A Hard Day's Night  1964       87               Comedy, Musical   \n",
       "997                     Shane  1953      118                Drama, Western   \n",
       "998     From Here to Eternity  1953      118           Drama, Romance, War   \n",
       "\n",
       "     rating  metascore                                           timeline  \\\n",
       "0       9.3       80.0  Two imprisoned men bond over a number of years...   \n",
       "1       9.2      100.0  An organized crime dynasty's aging patriarch t...   \n",
       "3       9.0       84.0  When the menace known as the Joker wreaks havo...   \n",
       "4       9.0       90.0  The early life and career of Vito Corleone in ...   \n",
       "5       9.0       96.0  A jury holdout attempts to prevent a miscarria...   \n",
       "..      ...        ...                                                ...   \n",
       "991     7.6       50.0  A group of U.S. soldiers sneaks across enemy l...   \n",
       "993     7.6       65.0  Bagheera the Panther and Baloo the Bear have a...   \n",
       "994     7.6       96.0  Over two \"typical\" days in the life of The Bea...   \n",
       "997     7.6       80.0  A weary gunfighter attempts to settle down wit...   \n",
       "998     7.6       85.0  In Hawaii in 1941, a private is cruelly punish...   \n",
       "\n",
       "         votes     gross  \n",
       "0    2,394,059   $28.34M  \n",
       "1    1,658,439  $134.97M  \n",
       "3    2,355,907  $534.86M  \n",
       "4    1,152,912   $57.30M  \n",
       "5      706,079    $4.36M  \n",
       "..         ...       ...  \n",
       "991     45,985    $1.38M  \n",
       "993    168,985  $141.84M  \n",
       "994     40,931   $13.78M  \n",
       "997     37,753   $20.00M  \n",
       "998     44,086   $30.50M  \n",
       "\n",
       "[747 rows x 9 columns]"
      ]
     },
     "execution_count": 175,
     "metadata": {},
     "output_type": "execute_result"
    }
   ],
   "source": [
    "df.dropna()"
   ]
  },
  {
   "cell_type": "markdown",
   "id": "3d514fad",
   "metadata": {
    "id": "3d514fad"
   },
   "source": []
  },
  {
   "cell_type": "code",
   "execution_count": 176,
   "id": "61b9d9a9",
   "metadata": {
    "id": "61b9d9a9"
   },
   "outputs": [],
   "source": [
    "Ratings = df[df[\"rating\"]>=8.0]"
   ]
  },
  {
   "cell_type": "code",
   "execution_count": 177,
   "id": "8bd7db97",
   "metadata": {
    "colab": {
     "base_uri": "https://localhost:8080/"
    },
    "id": "8bd7db97",
    "outputId": "51cae20d-4cb3-495d-b28e-f96016574d7e",
    "scrolled": true
   },
   "outputs": [
    {
     "data": {
      "text/plain": [
       "(471, 9)"
      ]
     },
     "execution_count": 177,
     "metadata": {},
     "output_type": "execute_result"
    }
   ],
   "source": [
    "Ratings.shape"
   ]
  },
  {
   "cell_type": "code",
   "execution_count": 178,
   "id": "88e23c29",
   "metadata": {
    "colab": {
     "base_uri": "https://localhost:8080/",
     "height": 546
    },
    "id": "88e23c29",
    "outputId": "0d295cad-ae9c-4da1-8f66-5426ce8159ec"
   },
   "outputs": [
    {
     "data": {
      "text/html": [
       "<div>\n",
       "<style scoped>\n",
       "    .dataframe tbody tr th:only-of-type {\n",
       "        vertical-align: middle;\n",
       "    }\n",
       "\n",
       "    .dataframe tbody tr th {\n",
       "        vertical-align: top;\n",
       "    }\n",
       "\n",
       "    .dataframe thead th {\n",
       "        text-align: right;\n",
       "    }\n",
       "</style>\n",
       "<table border=\"1\" class=\"dataframe\">\n",
       "  <thead>\n",
       "    <tr style=\"text-align: right;\">\n",
       "      <th></th>\n",
       "      <th>name</th>\n",
       "      <th>year</th>\n",
       "      <th>runtime</th>\n",
       "      <th>genre</th>\n",
       "      <th>rating</th>\n",
       "      <th>metascore</th>\n",
       "      <th>timeline</th>\n",
       "      <th>votes</th>\n",
       "      <th>gross</th>\n",
       "    </tr>\n",
       "  </thead>\n",
       "  <tbody>\n",
       "    <tr>\n",
       "      <th>0</th>\n",
       "      <td>The Shawshank Redemption</td>\n",
       "      <td>1994</td>\n",
       "      <td>142</td>\n",
       "      <td>Drama</td>\n",
       "      <td>9.3</td>\n",
       "      <td>80.0</td>\n",
       "      <td>Two imprisoned men bond over a number of years...</td>\n",
       "      <td>2,394,059</td>\n",
       "      <td>$28.34M</td>\n",
       "    </tr>\n",
       "    <tr>\n",
       "      <th>1</th>\n",
       "      <td>The Godfather</td>\n",
       "      <td>1972</td>\n",
       "      <td>175</td>\n",
       "      <td>Crime, Drama</td>\n",
       "      <td>9.2</td>\n",
       "      <td>100.0</td>\n",
       "      <td>An organized crime dynasty's aging patriarch t...</td>\n",
       "      <td>1,658,439</td>\n",
       "      <td>$134.97M</td>\n",
       "    </tr>\n",
       "    <tr>\n",
       "      <th>2</th>\n",
       "      <td>Soorarai Pottru</td>\n",
       "      <td>2020</td>\n",
       "      <td>153</td>\n",
       "      <td>Drama</td>\n",
       "      <td>9.1</td>\n",
       "      <td>NaN</td>\n",
       "      <td>Nedumaaran Rajangam \"Maara\" sets out to make t...</td>\n",
       "      <td>78,266</td>\n",
       "      <td>NaN</td>\n",
       "    </tr>\n",
       "    <tr>\n",
       "      <th>3</th>\n",
       "      <td>The Dark Knight</td>\n",
       "      <td>2008</td>\n",
       "      <td>152</td>\n",
       "      <td>Action, Crime, Drama</td>\n",
       "      <td>9.0</td>\n",
       "      <td>84.0</td>\n",
       "      <td>When the menace known as the Joker wreaks havo...</td>\n",
       "      <td>2,355,907</td>\n",
       "      <td>$534.86M</td>\n",
       "    </tr>\n",
       "    <tr>\n",
       "      <th>4</th>\n",
       "      <td>The Godfather: Part II</td>\n",
       "      <td>1974</td>\n",
       "      <td>202</td>\n",
       "      <td>Crime, Drama</td>\n",
       "      <td>9.0</td>\n",
       "      <td>90.0</td>\n",
       "      <td>The early life and career of Vito Corleone in ...</td>\n",
       "      <td>1,152,912</td>\n",
       "      <td>$57.30M</td>\n",
       "    </tr>\n",
       "    <tr>\n",
       "      <th>5</th>\n",
       "      <td>12 Angry Men</td>\n",
       "      <td>1957</td>\n",
       "      <td>96</td>\n",
       "      <td>Crime, Drama</td>\n",
       "      <td>9.0</td>\n",
       "      <td>96.0</td>\n",
       "      <td>A jury holdout attempts to prevent a miscarria...</td>\n",
       "      <td>706,079</td>\n",
       "      <td>$4.36M</td>\n",
       "    </tr>\n",
       "    <tr>\n",
       "      <th>6</th>\n",
       "      <td>The Lord of the Rings: The Return of the King</td>\n",
       "      <td>2003</td>\n",
       "      <td>201</td>\n",
       "      <td>Action, Adventure, Drama</td>\n",
       "      <td>8.9</td>\n",
       "      <td>94.0</td>\n",
       "      <td>Gandalf and Aragorn lead the World of Men agai...</td>\n",
       "      <td>1,672,460</td>\n",
       "      <td>$377.85M</td>\n",
       "    </tr>\n",
       "    <tr>\n",
       "      <th>7</th>\n",
       "      <td>Pulp Fiction</td>\n",
       "      <td>1994</td>\n",
       "      <td>154</td>\n",
       "      <td>Crime, Drama</td>\n",
       "      <td>8.9</td>\n",
       "      <td>94.0</td>\n",
       "      <td>The lives of two mob hitmen, a boxer, a gangst...</td>\n",
       "      <td>1,862,472</td>\n",
       "      <td>$107.93M</td>\n",
       "    </tr>\n",
       "    <tr>\n",
       "      <th>8</th>\n",
       "      <td>Schindler's List</td>\n",
       "      <td>1993</td>\n",
       "      <td>195</td>\n",
       "      <td>Biography, Drama, History</td>\n",
       "      <td>8.9</td>\n",
       "      <td>94.0</td>\n",
       "      <td>In German-occupied Poland during World War II,...</td>\n",
       "      <td>1,236,213</td>\n",
       "      <td>$96.90M</td>\n",
       "    </tr>\n",
       "    <tr>\n",
       "      <th>9</th>\n",
       "      <td>Inception</td>\n",
       "      <td>2010</td>\n",
       "      <td>148</td>\n",
       "      <td>Action, Adventure, Sci-Fi</td>\n",
       "      <td>8.8</td>\n",
       "      <td>74.0</td>\n",
       "      <td>A thief who steals corporate secrets through t...</td>\n",
       "      <td>2,113,984</td>\n",
       "      <td>$292.58M</td>\n",
       "    </tr>\n",
       "  </tbody>\n",
       "</table>\n",
       "</div>"
      ],
      "text/plain": [
       "                                            name  year  runtime  \\\n",
       "0                       The Shawshank Redemption  1994      142   \n",
       "1                                  The Godfather  1972      175   \n",
       "2                                Soorarai Pottru  2020      153   \n",
       "3                                The Dark Knight  2008      152   \n",
       "4                         The Godfather: Part II  1974      202   \n",
       "5                                   12 Angry Men  1957       96   \n",
       "6  The Lord of the Rings: The Return of the King  2003      201   \n",
       "7                                   Pulp Fiction  1994      154   \n",
       "8                               Schindler's List  1993      195   \n",
       "9                                      Inception  2010      148   \n",
       "\n",
       "                       genre  rating  metascore  \\\n",
       "0                      Drama     9.3       80.0   \n",
       "1               Crime, Drama     9.2      100.0   \n",
       "2                      Drama     9.1        NaN   \n",
       "3       Action, Crime, Drama     9.0       84.0   \n",
       "4               Crime, Drama     9.0       90.0   \n",
       "5               Crime, Drama     9.0       96.0   \n",
       "6   Action, Adventure, Drama     8.9       94.0   \n",
       "7               Crime, Drama     8.9       94.0   \n",
       "8  Biography, Drama, History     8.9       94.0   \n",
       "9  Action, Adventure, Sci-Fi     8.8       74.0   \n",
       "\n",
       "                                            timeline      votes     gross  \n",
       "0  Two imprisoned men bond over a number of years...  2,394,059   $28.34M  \n",
       "1  An organized crime dynasty's aging patriarch t...  1,658,439  $134.97M  \n",
       "2  Nedumaaran Rajangam \"Maara\" sets out to make t...     78,266       NaN  \n",
       "3  When the menace known as the Joker wreaks havo...  2,355,907  $534.86M  \n",
       "4  The early life and career of Vito Corleone in ...  1,152,912   $57.30M  \n",
       "5  A jury holdout attempts to prevent a miscarria...    706,079    $4.36M  \n",
       "6  Gandalf and Aragorn lead the World of Men agai...  1,672,460  $377.85M  \n",
       "7  The lives of two mob hitmen, a boxer, a gangst...  1,862,472  $107.93M  \n",
       "8  In German-occupied Poland during World War II,...  1,236,213   $96.90M  \n",
       "9  A thief who steals corporate secrets through t...  2,113,984  $292.58M  "
      ]
     },
     "execution_count": 178,
     "metadata": {},
     "output_type": "execute_result"
    }
   ],
   "source": [
    "Ratings.head(10)"
   ]
  },
  {
   "cell_type": "code",
   "execution_count": null,
   "id": "0e9ac543",
   "metadata": {
    "id": "0e9ac543"
   },
   "outputs": [],
   "source": []
  },
  {
   "cell_type": "markdown",
   "id": "4d833c22",
   "metadata": {
    "id": "4d833c22"
   },
   "source": []
  },
  {
   "cell_type": "code",
   "execution_count": 179,
   "id": "661f96a5",
   "metadata": {
    "id": "661f96a5"
   },
   "outputs": [],
   "source": [
    "Top_movies = Ratings.sort_values(by=\"rating\",ascending=False)"
   ]
  },
  {
   "cell_type": "code",
   "execution_count": 180,
   "id": "d52dc2d9",
   "metadata": {
    "colab": {
     "base_uri": "https://localhost:8080/",
     "height": 580
    },
    "id": "d52dc2d9",
    "outputId": "c46615f6-8789-4aaa-f18d-f927506cc7b6"
   },
   "outputs": [
    {
     "data": {
      "text/html": [
       "<div>\n",
       "<style scoped>\n",
       "    .dataframe tbody tr th:only-of-type {\n",
       "        vertical-align: middle;\n",
       "    }\n",
       "\n",
       "    .dataframe tbody tr th {\n",
       "        vertical-align: top;\n",
       "    }\n",
       "\n",
       "    .dataframe thead th {\n",
       "        text-align: right;\n",
       "    }\n",
       "</style>\n",
       "<table border=\"1\" class=\"dataframe\">\n",
       "  <thead>\n",
       "    <tr style=\"text-align: right;\">\n",
       "      <th></th>\n",
       "      <th>name</th>\n",
       "      <th>year</th>\n",
       "      <th>runtime</th>\n",
       "      <th>genre</th>\n",
       "      <th>rating</th>\n",
       "      <th>metascore</th>\n",
       "      <th>timeline</th>\n",
       "      <th>votes</th>\n",
       "      <th>gross</th>\n",
       "    </tr>\n",
       "  </thead>\n",
       "  <tbody>\n",
       "    <tr>\n",
       "      <th>0</th>\n",
       "      <td>The Shawshank Redemption</td>\n",
       "      <td>1994</td>\n",
       "      <td>142</td>\n",
       "      <td>Drama</td>\n",
       "      <td>9.3</td>\n",
       "      <td>80.0</td>\n",
       "      <td>Two imprisoned men bond over a number of years...</td>\n",
       "      <td>2,394,059</td>\n",
       "      <td>$28.34M</td>\n",
       "    </tr>\n",
       "    <tr>\n",
       "      <th>1</th>\n",
       "      <td>The Godfather</td>\n",
       "      <td>1972</td>\n",
       "      <td>175</td>\n",
       "      <td>Crime, Drama</td>\n",
       "      <td>9.2</td>\n",
       "      <td>100.0</td>\n",
       "      <td>An organized crime dynasty's aging patriarch t...</td>\n",
       "      <td>1,658,439</td>\n",
       "      <td>$134.97M</td>\n",
       "    </tr>\n",
       "    <tr>\n",
       "      <th>2</th>\n",
       "      <td>Soorarai Pottru</td>\n",
       "      <td>2020</td>\n",
       "      <td>153</td>\n",
       "      <td>Drama</td>\n",
       "      <td>9.1</td>\n",
       "      <td>NaN</td>\n",
       "      <td>Nedumaaran Rajangam \"Maara\" sets out to make t...</td>\n",
       "      <td>78,266</td>\n",
       "      <td>NaN</td>\n",
       "    </tr>\n",
       "    <tr>\n",
       "      <th>3</th>\n",
       "      <td>The Dark Knight</td>\n",
       "      <td>2008</td>\n",
       "      <td>152</td>\n",
       "      <td>Action, Crime, Drama</td>\n",
       "      <td>9.0</td>\n",
       "      <td>84.0</td>\n",
       "      <td>When the menace known as the Joker wreaks havo...</td>\n",
       "      <td>2,355,907</td>\n",
       "      <td>$534.86M</td>\n",
       "    </tr>\n",
       "    <tr>\n",
       "      <th>4</th>\n",
       "      <td>The Godfather: Part II</td>\n",
       "      <td>1974</td>\n",
       "      <td>202</td>\n",
       "      <td>Crime, Drama</td>\n",
       "      <td>9.0</td>\n",
       "      <td>90.0</td>\n",
       "      <td>The early life and career of Vito Corleone in ...</td>\n",
       "      <td>1,152,912</td>\n",
       "      <td>$57.30M</td>\n",
       "    </tr>\n",
       "    <tr>\n",
       "      <th>5</th>\n",
       "      <td>12 Angry Men</td>\n",
       "      <td>1957</td>\n",
       "      <td>96</td>\n",
       "      <td>Crime, Drama</td>\n",
       "      <td>9.0</td>\n",
       "      <td>96.0</td>\n",
       "      <td>A jury holdout attempts to prevent a miscarria...</td>\n",
       "      <td>706,079</td>\n",
       "      <td>$4.36M</td>\n",
       "    </tr>\n",
       "    <tr>\n",
       "      <th>6</th>\n",
       "      <td>The Lord of the Rings: The Return of the King</td>\n",
       "      <td>2003</td>\n",
       "      <td>201</td>\n",
       "      <td>Action, Adventure, Drama</td>\n",
       "      <td>8.9</td>\n",
       "      <td>94.0</td>\n",
       "      <td>Gandalf and Aragorn lead the World of Men agai...</td>\n",
       "      <td>1,672,460</td>\n",
       "      <td>$377.85M</td>\n",
       "    </tr>\n",
       "    <tr>\n",
       "      <th>7</th>\n",
       "      <td>Pulp Fiction</td>\n",
       "      <td>1994</td>\n",
       "      <td>154</td>\n",
       "      <td>Crime, Drama</td>\n",
       "      <td>8.9</td>\n",
       "      <td>94.0</td>\n",
       "      <td>The lives of two mob hitmen, a boxer, a gangst...</td>\n",
       "      <td>1,862,472</td>\n",
       "      <td>$107.93M</td>\n",
       "    </tr>\n",
       "    <tr>\n",
       "      <th>8</th>\n",
       "      <td>Schindler's List</td>\n",
       "      <td>1993</td>\n",
       "      <td>195</td>\n",
       "      <td>Biography, Drama, History</td>\n",
       "      <td>8.9</td>\n",
       "      <td>94.0</td>\n",
       "      <td>In German-occupied Poland during World War II,...</td>\n",
       "      <td>1,236,213</td>\n",
       "      <td>$96.90M</td>\n",
       "    </tr>\n",
       "    <tr>\n",
       "      <th>11</th>\n",
       "      <td>The Lord of the Rings: The Fellowship of the Ring</td>\n",
       "      <td>2001</td>\n",
       "      <td>178</td>\n",
       "      <td>Action, Adventure, Drama</td>\n",
       "      <td>8.8</td>\n",
       "      <td>92.0</td>\n",
       "      <td>A meek Hobbit from the Shire and eight compani...</td>\n",
       "      <td>1,693,187</td>\n",
       "      <td>$315.54M</td>\n",
       "    </tr>\n",
       "  </tbody>\n",
       "</table>\n",
       "</div>"
      ],
      "text/plain": [
       "                                                 name  year  runtime  \\\n",
       "0                            The Shawshank Redemption  1994      142   \n",
       "1                                       The Godfather  1972      175   \n",
       "2                                     Soorarai Pottru  2020      153   \n",
       "3                                     The Dark Knight  2008      152   \n",
       "4                              The Godfather: Part II  1974      202   \n",
       "5                                        12 Angry Men  1957       96   \n",
       "6       The Lord of the Rings: The Return of the King  2003      201   \n",
       "7                                        Pulp Fiction  1994      154   \n",
       "8                                    Schindler's List  1993      195   \n",
       "11  The Lord of the Rings: The Fellowship of the Ring  2001      178   \n",
       "\n",
       "                        genre  rating  metascore  \\\n",
       "0                       Drama     9.3       80.0   \n",
       "1                Crime, Drama     9.2      100.0   \n",
       "2                       Drama     9.1        NaN   \n",
       "3        Action, Crime, Drama     9.0       84.0   \n",
       "4                Crime, Drama     9.0       90.0   \n",
       "5                Crime, Drama     9.0       96.0   \n",
       "6    Action, Adventure, Drama     8.9       94.0   \n",
       "7                Crime, Drama     8.9       94.0   \n",
       "8   Biography, Drama, History     8.9       94.0   \n",
       "11   Action, Adventure, Drama     8.8       92.0   \n",
       "\n",
       "                                             timeline      votes     gross  \n",
       "0   Two imprisoned men bond over a number of years...  2,394,059   $28.34M  \n",
       "1   An organized crime dynasty's aging patriarch t...  1,658,439  $134.97M  \n",
       "2   Nedumaaran Rajangam \"Maara\" sets out to make t...     78,266       NaN  \n",
       "3   When the menace known as the Joker wreaks havo...  2,355,907  $534.86M  \n",
       "4   The early life and career of Vito Corleone in ...  1,152,912   $57.30M  \n",
       "5   A jury holdout attempts to prevent a miscarria...    706,079    $4.36M  \n",
       "6   Gandalf and Aragorn lead the World of Men agai...  1,672,460  $377.85M  \n",
       "7   The lives of two mob hitmen, a boxer, a gangst...  1,862,472  $107.93M  \n",
       "8   In German-occupied Poland during World War II,...  1,236,213   $96.90M  \n",
       "11  A meek Hobbit from the Shire and eight compani...  1,693,187  $315.54M  "
      ]
     },
     "execution_count": 180,
     "metadata": {},
     "output_type": "execute_result"
    }
   ],
   "source": [
    "Top_movies.head(10)"
   ]
  },
  {
   "cell_type": "code",
   "execution_count": 181,
   "id": "765feac5",
   "metadata": {
    "colab": {
     "base_uri": "https://localhost:8080/"
    },
    "id": "765feac5",
    "outputId": "3964454a-d419-48ec-ca44-720d828c1cb1"
   },
   "outputs": [
    {
     "data": {
      "text/plain": [
       "0       $28.34M\n",
       "1      $134.97M\n",
       "3      $534.86M\n",
       "4       $57.30M\n",
       "5        $4.36M\n",
       "         ...   \n",
       "991      $1.38M\n",
       "993    $141.84M\n",
       "994     $13.78M\n",
       "997     $20.00M\n",
       "998     $30.50M\n",
       "Name: gross, Length: 829, dtype: object"
      ]
     },
     "execution_count": 181,
     "metadata": {},
     "output_type": "execute_result"
    }
   ],
   "source": [
    "df[~(df['gross'].isna())]['gross']"
   ]
  },
  {
   "cell_type": "code",
   "execution_count": null,
   "id": "143be43c",
   "metadata": {
    "id": "143be43c"
   },
   "outputs": [],
   "source": []
  },
  {
   "cell_type": "markdown",
   "id": "405837c6",
   "metadata": {
    "id": "405837c6"
   },
   "source": []
  },
  {
   "cell_type": "code",
   "execution_count": 182,
   "id": "cdb9f0fc",
   "metadata": {
    "colab": {
     "base_uri": "https://localhost:8080/",
     "height": 206
    },
    "id": "cdb9f0fc",
    "outputId": "1595e555-651a-4dca-b1ec-2c05b5d71b4b",
    "scrolled": true
   },
   "outputs": [
    {
     "data": {
      "text/html": [
       "<div>\n",
       "<style scoped>\n",
       "    .dataframe tbody tr th:only-of-type {\n",
       "        vertical-align: middle;\n",
       "    }\n",
       "\n",
       "    .dataframe tbody tr th {\n",
       "        vertical-align: top;\n",
       "    }\n",
       "\n",
       "    .dataframe thead th {\n",
       "        text-align: right;\n",
       "    }\n",
       "</style>\n",
       "<table border=\"1\" class=\"dataframe\">\n",
       "  <thead>\n",
       "    <tr style=\"text-align: right;\">\n",
       "      <th></th>\n",
       "      <th>name</th>\n",
       "      <th>gross</th>\n",
       "    </tr>\n",
       "  </thead>\n",
       "  <tbody>\n",
       "    <tr>\n",
       "      <th>684</th>\n",
       "      <td>The Color Purple</td>\n",
       "      <td>$98.47M</td>\n",
       "    </tr>\n",
       "    <tr>\n",
       "      <th>753</th>\n",
       "      <td>The Social Network</td>\n",
       "      <td>$96.96M</td>\n",
       "    </tr>\n",
       "    <tr>\n",
       "      <th>8</th>\n",
       "      <td>Schindler's List</td>\n",
       "      <td>$96.90M</td>\n",
       "    </tr>\n",
       "    <tr>\n",
       "      <th>954</th>\n",
       "      <td>The Others</td>\n",
       "      <td>$96.52M</td>\n",
       "    </tr>\n",
       "    <tr>\n",
       "      <th>270</th>\n",
       "      <td>Dead Poets Society</td>\n",
       "      <td>$95.86M</td>\n",
       "    </tr>\n",
       "  </tbody>\n",
       "</table>\n",
       "</div>"
      ],
      "text/plain": [
       "                   name    gross\n",
       "684    The Color Purple  $98.47M\n",
       "753  The Social Network  $96.96M\n",
       "8      Schindler's List  $96.90M\n",
       "954          The Others  $96.52M\n",
       "270  Dead Poets Society  $95.86M"
      ]
     },
     "execution_count": 182,
     "metadata": {},
     "output_type": "execute_result"
    }
   ],
   "source": [
    "df[[\"name\",\"gross\"]].sort_values(by='gross', ascending=False).head(5)"
   ]
  },
  {
   "cell_type": "code",
   "execution_count": null,
   "id": "f05713bc",
   "metadata": {
    "id": "f05713bc"
   },
   "outputs": [],
   "source": []
  },
  {
   "cell_type": "code",
   "execution_count": 183,
   "id": "d20cf0de",
   "metadata": {
    "id": "d20cf0de"
   },
   "outputs": [],
   "source": [
    "# Converting the Data type of votes from object to int"
   ]
  },
  {
   "cell_type": "code",
   "execution_count": 184,
   "id": "78f46fce",
   "metadata": {
    "colab": {
     "base_uri": "https://localhost:8080/"
    },
    "id": "78f46fce",
    "outputId": "0f1d328a-6a54-4bc5-bd0f-bfa9c8022bc7"
   },
   "outputs": [],
   "source": [
    "for i in range(0,len(df[\"votes\"])):\n",
    "    df[\"votes\"][i] = int(str(df[\"votes\"][i]).replace(\",\",\"\"))"
   ]
  },
  {
   "cell_type": "code",
   "execution_count": null,
   "id": "94df4bfa",
   "metadata": {
    "id": "94df4bfa"
   },
   "outputs": [],
   "source": []
  },
  {
   "cell_type": "code",
   "execution_count": 185,
   "id": "5c2f2c12",
   "metadata": {
    "id": "5c2f2c12"
   },
   "outputs": [],
   "source": [
    "# Converting the Data type of gross from object to int or float"
   ]
  },
  {
   "cell_type": "code",
   "execution_count": 186,
   "id": "8b3de363",
   "metadata": {
    "colab": {
     "base_uri": "https://localhost:8080/"
    },
    "id": "8b3de363",
    "outputId": "79540e4a-173b-4c98-9b03-d83fdad57cae"
   },
   "outputs": [],
   "source": [
    "for i in range(0,len(df[\"gross\"])):\n",
    "    df[\"gross\"][i] = float(str(df[\"gross\"][i]).replace(\"$\",\"\").replace(\"M\",\"\").replace(\"B\",\"\"))"
   ]
  },
  {
   "cell_type": "code",
   "execution_count": 187,
   "id": "3b2559ee",
   "metadata": {
    "id": "3b2559ee"
   },
   "outputs": [],
   "source": [
    "# Filtering the \"votes\" column based on which movie have more than 5L votes\n",
    "\n",
    "filtered_movie_ratings = df[df[\"votes\"]>=500000]"
   ]
  },
  {
   "cell_type": "code",
   "execution_count": 188,
   "id": "3b073996",
   "metadata": {
    "colab": {
     "base_uri": "https://localhost:8080/",
     "height": 363
    },
    "id": "3b073996",
    "outputId": "b43a7c29-e3b4-4da9-f876-85994720b19b"
   },
   "outputs": [
    {
     "data": {
      "text/html": [
       "<div>\n",
       "<style scoped>\n",
       "    .dataframe tbody tr th:only-of-type {\n",
       "        vertical-align: middle;\n",
       "    }\n",
       "\n",
       "    .dataframe tbody tr th {\n",
       "        vertical-align: top;\n",
       "    }\n",
       "\n",
       "    .dataframe thead th {\n",
       "        text-align: right;\n",
       "    }\n",
       "</style>\n",
       "<table border=\"1\" class=\"dataframe\">\n",
       "  <thead>\n",
       "    <tr style=\"text-align: right;\">\n",
       "      <th></th>\n",
       "      <th>name</th>\n",
       "      <th>metascore</th>\n",
       "      <th>rating</th>\n",
       "      <th>runtime</th>\n",
       "      <th>votes</th>\n",
       "    </tr>\n",
       "  </thead>\n",
       "  <tbody>\n",
       "    <tr>\n",
       "      <th>0</th>\n",
       "      <td>The Shawshank Redemption</td>\n",
       "      <td>80.0</td>\n",
       "      <td>9.3</td>\n",
       "      <td>142</td>\n",
       "      <td>2394059</td>\n",
       "    </tr>\n",
       "    <tr>\n",
       "      <th>3</th>\n",
       "      <td>The Dark Knight</td>\n",
       "      <td>84.0</td>\n",
       "      <td>9.0</td>\n",
       "      <td>152</td>\n",
       "      <td>2355907</td>\n",
       "    </tr>\n",
       "    <tr>\n",
       "      <th>9</th>\n",
       "      <td>Inception</td>\n",
       "      <td>74.0</td>\n",
       "      <td>8.8</td>\n",
       "      <td>148</td>\n",
       "      <td>2113984</td>\n",
       "    </tr>\n",
       "    <tr>\n",
       "      <th>10</th>\n",
       "      <td>Fight Club</td>\n",
       "      <td>66.0</td>\n",
       "      <td>8.8</td>\n",
       "      <td>139</td>\n",
       "      <td>1892181</td>\n",
       "    </tr>\n",
       "    <tr>\n",
       "      <th>7</th>\n",
       "      <td>Pulp Fiction</td>\n",
       "      <td>94.0</td>\n",
       "      <td>8.9</td>\n",
       "      <td>154</td>\n",
       "      <td>1862472</td>\n",
       "    </tr>\n",
       "    <tr>\n",
       "      <th>12</th>\n",
       "      <td>Forrest Gump</td>\n",
       "      <td>82.0</td>\n",
       "      <td>8.8</td>\n",
       "      <td>142</td>\n",
       "      <td>1851357</td>\n",
       "    </tr>\n",
       "    <tr>\n",
       "      <th>15</th>\n",
       "      <td>The Matrix</td>\n",
       "      <td>73.0</td>\n",
       "      <td>8.7</td>\n",
       "      <td>136</td>\n",
       "      <td>1710438</td>\n",
       "    </tr>\n",
       "    <tr>\n",
       "      <th>11</th>\n",
       "      <td>The Lord of the Rings: The Fellowship of the Ring</td>\n",
       "      <td>92.0</td>\n",
       "      <td>8.8</td>\n",
       "      <td>178</td>\n",
       "      <td>1693187</td>\n",
       "    </tr>\n",
       "    <tr>\n",
       "      <th>6</th>\n",
       "      <td>The Lord of the Rings: The Return of the King</td>\n",
       "      <td>94.0</td>\n",
       "      <td>8.9</td>\n",
       "      <td>201</td>\n",
       "      <td>1672460</td>\n",
       "    </tr>\n",
       "    <tr>\n",
       "      <th>1</th>\n",
       "      <td>The Godfather</td>\n",
       "      <td>100.0</td>\n",
       "      <td>9.2</td>\n",
       "      <td>175</td>\n",
       "      <td>1658439</td>\n",
       "    </tr>\n",
       "  </tbody>\n",
       "</table>\n",
       "</div>"
      ],
      "text/plain": [
       "                                                 name  metascore  rating  \\\n",
       "0                            The Shawshank Redemption       80.0     9.3   \n",
       "3                                     The Dark Knight       84.0     9.0   \n",
       "9                                           Inception       74.0     8.8   \n",
       "10                                         Fight Club       66.0     8.8   \n",
       "7                                        Pulp Fiction       94.0     8.9   \n",
       "12                                       Forrest Gump       82.0     8.8   \n",
       "15                                         The Matrix       73.0     8.7   \n",
       "11  The Lord of the Rings: The Fellowship of the Ring       92.0     8.8   \n",
       "6       The Lord of the Rings: The Return of the King       94.0     8.9   \n",
       "1                                       The Godfather      100.0     9.2   \n",
       "\n",
       "    runtime    votes  \n",
       "0       142  2394059  \n",
       "3       152  2355907  \n",
       "9       148  2113984  \n",
       "10      139  1892181  \n",
       "7       154  1862472  \n",
       "12      142  1851357  \n",
       "15      136  1710438  \n",
       "11      178  1693187  \n",
       "6       201  1672460  \n",
       "1       175  1658439  "
      ]
     },
     "execution_count": 188,
     "metadata": {},
     "output_type": "execute_result"
    }
   ],
   "source": [
    "filtered_movie_ratings[[\"name\",\"metascore\",\"rating\",\"runtime\",\"votes\"]].sort_values(by=\"votes\",ascending=False).head(10)"
   ]
  },
  {
   "cell_type": "code",
   "execution_count": null,
   "id": "a4f69ed7",
   "metadata": {
    "id": "a4f69ed7"
   },
   "outputs": [],
   "source": []
  },
  {
   "cell_type": "code",
   "execution_count": 189,
   "id": "4fdd5cc3",
   "metadata": {
    "colab": {
     "base_uri": "https://localhost:8080/",
     "height": 404
    },
    "id": "4fdd5cc3",
    "outputId": "60ce8bb3-6222-4bd1-d233-761b041e43c7"
   },
   "outputs": [
    {
     "data": {
      "text/plain": [
       "<seaborn.axisgrid.FacetGrid at 0x1b484984e80>"
      ]
     },
     "execution_count": 189,
     "metadata": {},
     "output_type": "execute_result"
    },
    {
     "data": {
      "text/plain": [
       "<Figure size 2000x1000 with 0 Axes>"
      ]
     },
     "metadata": {},
     "output_type": "display_data"
    },
    {
     "data": {
      "image/png": "[encoded data removed]",
      "text/plain": [
       "<Figure size 500x500 with 1 Axes>"
      ]
     },
     "metadata": {},
     "output_type": "display_data"
    }
   ],
   "source": [
    "plt.figure(figsize=(20,10))\n",
    "sns.displot(df[\"runtime\"],kde=True)"
   ]
  },
  {
   "cell_type": "code",
   "execution_count": null,
   "id": "8e703cb7",
   "metadata": {
    "id": "8e703cb7"
   },
   "outputs": [],
   "source": []
  },
  {
   "cell_type": "code",
   "execution_count": 190,
   "id": "d2c03fe5",
   "metadata": {
    "colab": {
     "base_uri": "https://localhost:8080/",
     "height": 423
    },
    "id": "d2c03fe5",
    "outputId": "379c6ae1-ab6d-4c5a-b320-cad893874be6"
   },
   "outputs": [
    {
     "data": {
      "text/html": [
       "<div>\n",
       "<style scoped>\n",
       "    .dataframe tbody tr th:only-of-type {\n",
       "        vertical-align: middle;\n",
       "    }\n",
       "\n",
       "    .dataframe tbody tr th {\n",
       "        vertical-align: top;\n",
       "    }\n",
       "\n",
       "    .dataframe thead th {\n",
       "        text-align: right;\n",
       "    }\n",
       "</style>\n",
       "<table border=\"1\" class=\"dataframe\">\n",
       "  <thead>\n",
       "    <tr style=\"text-align: right;\">\n",
       "      <th></th>\n",
       "      <th>runtime</th>\n",
       "      <th>rating</th>\n",
       "      <th>metascore</th>\n",
       "      <th>votes</th>\n",
       "      <th>gross</th>\n",
       "    </tr>\n",
       "  </thead>\n",
       "  <tbody>\n",
       "    <tr>\n",
       "      <th>0</th>\n",
       "      <td>142</td>\n",
       "      <td>9.3</td>\n",
       "      <td>80.0</td>\n",
       "      <td>2394059</td>\n",
       "      <td>28.34</td>\n",
       "    </tr>\n",
       "    <tr>\n",
       "      <th>1</th>\n",
       "      <td>175</td>\n",
       "      <td>9.2</td>\n",
       "      <td>100.0</td>\n",
       "      <td>1658439</td>\n",
       "      <td>134.97</td>\n",
       "    </tr>\n",
       "    <tr>\n",
       "      <th>3</th>\n",
       "      <td>152</td>\n",
       "      <td>9.0</td>\n",
       "      <td>84.0</td>\n",
       "      <td>2355907</td>\n",
       "      <td>534.86</td>\n",
       "    </tr>\n",
       "    <tr>\n",
       "      <th>4</th>\n",
       "      <td>202</td>\n",
       "      <td>9.0</td>\n",
       "      <td>90.0</td>\n",
       "      <td>1152912</td>\n",
       "      <td>57.3</td>\n",
       "    </tr>\n",
       "    <tr>\n",
       "      <th>5</th>\n",
       "      <td>96</td>\n",
       "      <td>9.0</td>\n",
       "      <td>96.0</td>\n",
       "      <td>706079</td>\n",
       "      <td>4.36</td>\n",
       "    </tr>\n",
       "    <tr>\n",
       "      <th>...</th>\n",
       "      <td>...</td>\n",
       "      <td>...</td>\n",
       "      <td>...</td>\n",
       "      <td>...</td>\n",
       "      <td>...</td>\n",
       "    </tr>\n",
       "    <tr>\n",
       "      <th>991</th>\n",
       "      <td>144</td>\n",
       "      <td>7.6</td>\n",
       "      <td>50.0</td>\n",
       "      <td>45985</td>\n",
       "      <td>1.38</td>\n",
       "    </tr>\n",
       "    <tr>\n",
       "      <th>993</th>\n",
       "      <td>78</td>\n",
       "      <td>7.6</td>\n",
       "      <td>65.0</td>\n",
       "      <td>168985</td>\n",
       "      <td>141.84</td>\n",
       "    </tr>\n",
       "    <tr>\n",
       "      <th>994</th>\n",
       "      <td>87</td>\n",
       "      <td>7.6</td>\n",
       "      <td>96.0</td>\n",
       "      <td>40931</td>\n",
       "      <td>13.78</td>\n",
       "    </tr>\n",
       "    <tr>\n",
       "      <th>997</th>\n",
       "      <td>118</td>\n",
       "      <td>7.6</td>\n",
       "      <td>80.0</td>\n",
       "      <td>37753</td>\n",
       "      <td>20.0</td>\n",
       "    </tr>\n",
       "    <tr>\n",
       "      <th>998</th>\n",
       "      <td>118</td>\n",
       "      <td>7.6</td>\n",
       "      <td>85.0</td>\n",
       "      <td>44086</td>\n",
       "      <td>30.5</td>\n",
       "    </tr>\n",
       "  </tbody>\n",
       "</table>\n",
       "<p>747 rows × 5 columns</p>\n",
       "</div>"
      ],
      "text/plain": [
       "     runtime  rating  metascore    votes   gross\n",
       "0        142     9.3       80.0  2394059   28.34\n",
       "1        175     9.2      100.0  1658439  134.97\n",
       "3        152     9.0       84.0  2355907  534.86\n",
       "4        202     9.0       90.0  1152912    57.3\n",
       "5         96     9.0       96.0   706079    4.36\n",
       "..       ...     ...        ...      ...     ...\n",
       "991      144     7.6       50.0    45985    1.38\n",
       "993       78     7.6       65.0   168985  141.84\n",
       "994       87     7.6       96.0    40931   13.78\n",
       "997      118     7.6       80.0    37753    20.0\n",
       "998      118     7.6       85.0    44086    30.5\n",
       "\n",
       "[747 rows x 5 columns]"
      ]
     },
     "execution_count": 190,
     "metadata": {},
     "output_type": "execute_result"
    }
   ],
   "source": [
    "Actual_Data = df.drop([\"name\",\"year\",\"timeline\",\"genre\"],axis=1)\n",
    "Actual_Data=Actual_Data.dropna()\n",
    "Actual_Data"
   ]
  },
  {
   "cell_type": "code",
   "execution_count": 191,
   "id": "c28e7a9e",
   "metadata": {
    "id": "c28e7a9e"
   },
   "outputs": [],
   "source": [
    "from sklearn.linear_model import LinearRegression as lr\n",
    "from sklearn.model_selection import train_test_split"
   ]
  },
  {
   "cell_type": "code",
   "execution_count": 192,
   "id": "6cb9f7c6",
   "metadata": {
    "id": "6cb9f7c6"
   },
   "outputs": [],
   "source": [
    "LR = LinearRegression()"
   ]
  },
  {
   "cell_type": "code",
   "execution_count": 193,
   "id": "30c0a34b",
   "metadata": {
    "id": "30c0a34b"
   },
   "outputs": [],
   "source": [
    "X = Actual_Data.drop(\"gross\",axis=1)\n",
    "y = Actual_Data[\"gross\"]"
   ]
  },
  {
   "cell_type": "code",
   "execution_count": 194,
   "id": "367955d8",
   "metadata": {
    "id": "367955d8"
   },
   "outputs": [
    {
     "data": {
      "text/plain": [
       "752      0.08\n",
       "775      0.87\n",
       "719      4.36\n",
       "371     57.37\n",
       "23     216.54\n",
       "        ...  \n",
       "641      5.13\n",
       "298      4.05\n",
       "174     23.38\n",
       "674     61.28\n",
       "105     46.36\n",
       "Name: gross, Length: 150, dtype: object"
      ]
     },
     "execution_count": 194,
     "metadata": {},
     "output_type": "execute_result"
    }
   ],
   "source": [
    "X_train,X_test,y_train,y_test = train_test_split(X,y,test_size=0.2)\n",
    "y_test"
   ]
  },
  {
   "cell_type": "code",
   "execution_count": 195,
   "id": "f7727e3e",
   "metadata": {
    "colab": {
     "base_uri": "https://localhost:8080/"
    },
    "id": "f7727e3e",
    "outputId": "e7b1d65c-cd6c-4f0c-f782-5ff9396f448c"
   },
   "outputs": [
    {
     "data": {
      "text/html": [
       "<style>#sk-container-id-5 {color: black;background-color: white;}#sk-container-id-5 pre{padding: 0;}#sk-container-id-5 div.sk-toggleable {background-color: white;}#sk-container-id-5 label.sk-toggleable__label {cursor: pointer;display: block;width: 100%;margin-bottom: 0;padding: 0.3em;box-sizing: border-box;text-align: center;}#sk-container-id-5 label.sk-toggleable__label-arrow:before {content: \"▸\";float: left;margin-right: 0.25em;color: #696969;}#sk-container-id-5 label.sk-toggleable__label-arrow:hover:before {color: black;}#sk-container-id-5 div.sk-estimator:hover label.sk-toggleable__label-arrow:before {color: black;}#sk-container-id-5 div.sk-toggleable__content {max-height: 0;max-width: 0;overflow: hidden;text-align: left;background-color: #f0f8ff;}#sk-container-id-5 div.sk-toggleable__content pre {margin: 0.2em;color: black;border-radius: 0.25em;background-color: #f0f8ff;}#sk-container-id-5 input.sk-toggleable__control:checked~div.sk-toggleable__content {max-height: 200px;max-width: 100%;overflow: auto;}#sk-container-id-5 input.sk-toggleable__control:checked~label.sk-toggleable__label-arrow:before {content: \"▾\";}#sk-container-id-5 div.sk-estimator input.sk-toggleable__control:checked~label.sk-toggleable__label {background-color: #d4ebff;}#sk-container-id-5 div.sk-label input.sk-toggleable__control:checked~label.sk-toggleable__label {background-color: #d4ebff;}#sk-container-id-5 input.sk-hidden--visually {border: 0;clip: rect(1px 1px 1px 1px);clip: rect(1px, 1px, 1px, 1px);height: 1px;margin: -1px;overflow: hidden;padding: 0;position: absolute;width: 1px;}#sk-container-id-5 div.sk-estimator {font-family: monospace;background-color: #f0f8ff;border: 1px dotted black;border-radius: 0.25em;box-sizing: border-box;margin-bottom: 0.5em;}#sk-container-id-5 div.sk-estimator:hover {background-color: #d4ebff;}#sk-container-id-5 div.sk-parallel-item::after {content: \"\";width: 100%;border-bottom: 1px solid gray;flex-grow: 1;}#sk-container-id-5 div.sk-label:hover label.sk-toggleable__label {background-color: #d4ebff;}#sk-container-id-5 div.sk-serial::before {content: \"\";position: absolute;border-left: 1px solid gray;box-sizing: border-box;top: 0;bottom: 0;left: 50%;z-index: 0;}#sk-container-id-5 div.sk-serial {display: flex;flex-direction: column;align-items: center;background-color: white;padding-right: 0.2em;padding-left: 0.2em;position: relative;}#sk-container-id-5 div.sk-item {position: relative;z-index: 1;}#sk-container-id-5 div.sk-parallel {display: flex;align-items: stretch;justify-content: center;background-color: white;position: relative;}#sk-container-id-5 div.sk-item::before, #sk-container-id-5 div.sk-parallel-item::before {content: \"\";position: absolute;border-left: 1px solid gray;box-sizing: border-box;top: 0;bottom: 0;left: 50%;z-index: -1;}#sk-container-id-5 div.sk-parallel-item {display: flex;flex-direction: column;z-index: 1;position: relative;background-color: white;}#sk-container-id-5 div.sk-parallel-item:first-child::after {align-self: flex-end;width: 50%;}#sk-container-id-5 div.sk-parallel-item:last-child::after {align-self: flex-start;width: 50%;}#sk-container-id-5 div.sk-parallel-item:only-child::after {width: 0;}#sk-container-id-5 div.sk-dashed-wrapped {border: 1px dashed gray;margin: 0 0.4em 0.5em 0.4em;box-sizing: border-box;padding-bottom: 0.4em;background-color: white;}#sk-container-id-5 div.sk-label label {font-family: monospace;font-weight: bold;display: inline-block;line-height: 1.2em;}#sk-container-id-5 div.sk-label-container {text-align: center;}#sk-container-id-5 div.sk-container {/* jupyter's `normalize.less` sets `[hidden] { display: none; }` but bootstrap.min.css set `[hidden] { display: none !important; }` so we also need the `!important` here to be able to override the default hidden behavior on the sphinx rendered scikit-learn.org. See: https://github.com/scikit-learn/scikit-learn/issues/21755 */display: inline-block !important;position: relative;}#sk-container-id-5 div.sk-text-repr-fallback {display: none;}</style><div id=\"sk-container-id-5\" class=\"sk-top-container\"><div class=\"sk-text-repr-fallback\"><pre>LinearRegression()</pre><b>In a Jupyter environment, please rerun this cell to show the HTML representation or trust the notebook. <br />On GitHub, the HTML representation is unable to render, please try loading this page with nbviewer.org.</b></div><div class=\"sk-container\" hidden><div class=\"sk-item\"><div class=\"sk-estimator sk-toggleable\"><input class=\"sk-toggleable__control sk-hidden--visually\" id=\"sk-estimator-id-5\" type=\"checkbox\" checked><label for=\"sk-estimator-id-5\" class=\"sk-toggleable__label sk-toggleable__label-arrow\">LinearRegression</label><div class=\"sk-toggleable__content\"><pre>LinearRegression()</pre></div></div></div></div></div>"
      ],
      "text/plain": [
       "LinearRegression()"
      ]
     },
     "execution_count": 195,
     "metadata": {},
     "output_type": "execute_result"
    }
   ],
   "source": [
    "# creating the model using fit() function\n",
    "\n",
    "LR.fit(X,y)"
   ]
  },
  {
   "cell_type": "code",
   "execution_count": 196,
   "id": "772ab391",
   "metadata": {
    "id": "772ab391"
   },
   "outputs": [
    {
     "data": {
      "text/plain": [
       "array([ 5.12495260e+01,  3.75248017e+01,  9.22076008e+01,  7.13356547e+01,\n",
       "        8.19314700e+01,  5.26856229e+01, -2.06562418e+01,  8.03408950e+01,\n",
       "        3.86408818e+01,  1.13181635e+02,  6.21592311e+01,  7.70871283e+01,\n",
       "        2.71420909e+01,  4.98640859e+01,  2.80578623e+01,  9.06906767e+01,\n",
       "        4.52092051e+01, -2.64140390e-01,  3.24220990e+01,  9.38265779e+01,\n",
       "        1.38409681e+02,  4.08232512e+01,  1.30029311e+02,  2.42320748e+01,\n",
       "        1.24890522e+02,  7.67665791e+01, -1.96142145e+01,  1.18966381e+02,\n",
       "        6.19925529e+01,  1.30912006e+01, -1.53453092e+01,  8.37686809e+01,\n",
       "        1.42162106e+02,  5.96300897e+00, -2.11337415e+00,  7.08740977e+01,\n",
       "       -3.08781137e+01,  1.62918433e+02,  6.48961607e+01,  2.16069872e+01,\n",
       "        7.98901316e+01,  8.51445710e+01,  1.65239939e+01,  1.24582578e+02,\n",
       "        9.58071253e+01,  1.43110203e+02,  5.54789993e+00, -6.83190055e-01,\n",
       "        1.45919449e+02,  1.23706458e+02, -6.26392467e+01, -2.16216544e+00,\n",
       "        1.04530397e+01,  1.85533041e+01,  1.71042775e+02,  1.49476873e+01,\n",
       "        3.83898997e+01,  3.72575948e+01,  1.94596686e+02,  6.09009226e+01,\n",
       "        1.64324056e+02,  2.17193657e+01,  1.73472833e+02,  2.64686128e+01,\n",
       "        3.64591146e+01,  4.66633847e+01,  1.77070088e+02,  1.77638367e+01,\n",
       "        5.64124504e+01,  1.49676416e+02,  8.66710128e+01,  7.15975773e+01,\n",
       "        5.43143514e+01,  4.06036481e+01,  4.63436550e+01, -3.39764438e+00,\n",
       "        1.77142214e+02,  1.07950640e+02,  6.37701704e+01,  4.75789528e+01,\n",
       "        1.36496643e+02,  3.91570319e+00, -9.84326802e+00,  4.75768270e+01,\n",
       "        2.65275979e+01,  1.16229877e+01,  1.72701602e+02,  2.49190906e+01,\n",
       "        8.14896771e+01,  9.27398925e+00,  1.18133092e+02,  6.71374075e+01,\n",
       "        1.55950557e+02,  9.11649134e+00,  1.44189786e+02,  3.19918016e+02,\n",
       "        9.20018699e+01,  1.11611920e+02,  1.61465820e+02,  9.57918960e+01,\n",
       "        1.48491250e+02,  4.48545852e+01,  1.11237904e+02, -2.19510053e+00,\n",
       "        2.07740262e+02,  6.30956080e+01,  3.55548556e+01,  4.14674349e+01,\n",
       "        7.14914134e+01,  5.06780496e+01,  8.06197165e+01,  6.96487343e+01,\n",
       "        2.96167387e+01,  1.18971160e+02,  1.18004284e+02,  1.81386819e+02,\n",
       "        4.31553748e+01,  3.09514363e+01,  1.43516864e+02,  8.96674016e+01,\n",
       "        2.30729275e+01,  7.39255850e+01,  1.88164451e+02,  1.23634022e+02,\n",
       "        1.60630531e+01,  1.17920354e+02,  6.42064695e+01,  5.75597557e+01,\n",
       "        5.69093118e+00,  1.86396333e+02,  9.88980614e+01,  6.55639832e+01,\n",
       "        7.68865555e+01,  1.11713852e+01,  9.01495881e+01,  4.30258738e+01,\n",
       "        1.92542505e+02,  1.94111921e+02,  2.66304697e+01,  4.17618018e+01,\n",
       "        1.51223249e+02,  3.44148816e+00,  8.41812052e+01,  4.19397358e+01,\n",
       "        6.70363568e+01,  2.96955950e+00, -2.83401147e+01,  9.18211237e+01,\n",
       "        7.29805801e+01, -1.85520690e+01,  5.59091392e+01, -9.70193804e+00,\n",
       "        4.79539704e+01,  7.48921966e+01,  6.21045122e+01,  4.11011368e+01,\n",
       "       -2.35432974e+01, -1.67191299e+01,  4.99108155e+01,  3.62740518e+01,\n",
       "        1.79588113e+01,  1.12594920e+02,  8.55722306e+01,  1.18729023e+01,\n",
       "       -1.07319725e+00,  1.00887836e+02,  1.05861833e+02,  8.96970765e+01,\n",
       "        6.77286166e+01,  1.78075833e+01,  2.31317553e+02,  1.81866544e+01,\n",
       "        1.94791937e+01,  2.46687964e+01,  1.61206962e+02,  1.11767791e+02,\n",
       "        1.74782359e+02, -1.19723915e-01,  1.09017861e+01,  1.74060079e+02,\n",
       "        1.25456128e+02,  3.43782860e+01, -2.85964532e+01, -1.50679311e+01,\n",
       "       -3.54032906e-01,  3.54506958e+01,  7.15971689e+01,  1.54512684e+02,\n",
       "        6.26755620e+01,  1.16152932e+02,  7.37923283e+01,  1.94288111e+02,\n",
       "        1.25290010e+02, -1.23835989e+01,  2.96671526e+01,  7.10835604e+01,\n",
       "        1.43770635e+02,  1.19651260e+02,  1.51315227e+02,  6.50733474e+01,\n",
       "        1.17484487e+02,  2.33373691e+01,  8.26400819e+01,  8.63612391e+01,\n",
       "        7.70678430e+01,  1.33196566e+02,  1.76960936e+02,  1.93631635e+02,\n",
       "        7.98481467e+01,  4.50623376e+01,  1.35407530e+01,  2.13928767e+02,\n",
       "        4.61614232e+01,  7.51585871e+01,  1.04797736e+02,  2.16415611e+02,\n",
       "        1.97825939e+01, -3.10163997e+00,  1.22195361e+02, -2.56113674e+01,\n",
       "        1.09815013e+02, -4.93492404e+00,  1.06993102e+02, -3.66033887e+01,\n",
       "        1.12595952e+01,  2.06364773e+02,  6.64685130e+01,  2.67415835e+01,\n",
       "       -3.16199946e-01,  1.00474939e+02,  4.28362497e+01,  7.39508369e+00,\n",
       "        7.15367083e+01,  1.66693351e+02,  2.17515017e+00,  4.83682654e+01,\n",
       "        7.05084803e+01, -5.95689214e+00, -2.84262363e+01,  9.57500795e+01,\n",
       "        1.65567538e+02,  1.38877455e+02,  5.79411124e+01,  2.33971945e+02,\n",
       "        4.12982960e+01, -1.19255175e+01,  4.63139569e+01,  2.83285958e+01,\n",
       "        5.08358461e+01,  4.17465694e+01, -1.36221740e+01,  4.59962967e+01,\n",
       "        1.35859469e+02,  1.13500411e+02,  4.78553697e+01,  4.29433485e+01,\n",
       "        8.70874009e+01, -9.30565217e+00,  1.12551044e+02,  1.93304884e+01,\n",
       "        7.75780445e+01,  1.59326319e+02,  4.18587902e+02,  2.92751201e+01,\n",
       "        8.33836680e+00,  2.30425006e+01,  4.67257780e+01,  1.57803204e+02,\n",
       "        4.72876198e+01,  3.53083905e+01,  2.12699248e+01,  1.01340428e+01,\n",
       "        3.04398088e+02,  7.73676433e+01,  1.10427205e+02,  9.70723698e+00,\n",
       "        8.18795422e+01,  1.04315109e+02,  9.57322056e+01,  9.15392312e+00,\n",
       "       -2.86732354e+01, -2.59945798e+01,  1.49652350e+01,  3.10555527e+01,\n",
       "        1.44113652e+02,  7.69613686e+01,  1.37861303e+02,  6.73615443e+01,\n",
       "        5.78661674e+01, -6.87760435e+01,  1.38269779e+02,  1.23660312e+02,\n",
       "       -3.87999015e+01, -1.64870304e+01,  7.98353493e+01,  2.45777428e+01,\n",
       "        8.90345363e+01,  2.59765398e+01,  1.28635410e+02,  8.45097038e+01,\n",
       "        1.99491594e+02,  8.18006581e+01,  4.11256231e+01,  1.45890617e+02,\n",
       "        2.93840884e+01,  3.67790005e+01,  5.85036605e+01, -9.47193901e+00,\n",
       "        3.80685208e+01,  3.13506954e+01, -7.65039029e+00,  1.37720759e+02,\n",
       "        5.86321662e+01,  2.86395343e+02,  1.15152691e+02,  1.90738388e+02,\n",
       "        4.63576016e+01,  1.20938895e+02,  9.39937697e+00,  1.12320239e+01,\n",
       "        1.61858017e+02,  7.43781318e+01,  8.88689826e+01,  1.76508722e+02,\n",
       "        1.38627862e+02,  4.64395790e+00,  1.36770519e+02,  4.92324759e+01,\n",
       "        1.48548166e+02,  4.36698775e+01,  1.28736207e+01,  1.99110312e+02,\n",
       "       -6.48442573e+00,  9.47707483e+01,  1.44067686e+02,  1.16720164e+02,\n",
       "       -8.48191122e+00,  6.76050382e+01,  3.57146485e+01, -9.73670691e+00,\n",
       "        5.76807873e+01,  4.31908227e+01,  1.17905265e+02,  9.38079705e+01,\n",
       "        1.20014016e+02,  7.09416737e+01,  1.02603926e+02,  1.46653210e+02,\n",
       "        3.68909475e+01,  3.46977987e+01,  8.55881304e+01,  5.70966336e+01,\n",
       "        1.26358037e+01,  7.09813800e+01,  1.49455242e+02,  2.09608445e+01,\n",
       "        1.25384404e+02,  1.51747079e+02,  1.66070359e+01,  3.34956889e+01,\n",
       "        7.52124058e+01,  3.46249481e+01,  9.78247250e+01,  1.91348695e+02,\n",
       "        7.30134364e+01,  4.52320893e+01,  1.18385303e+02,  1.53647301e+01,\n",
       "        1.83065198e+02,  1.56346262e+02,  4.67745067e+01,  2.40616702e+01,\n",
       "        1.51171063e+01,  3.15547873e+02,  9.55277027e+01,  1.26721693e+00,\n",
       "        7.85192085e+00, -4.30934659e+00,  7.79844153e+01,  2.43523137e+02,\n",
       "        2.29426600e+00,  3.07663569e+01,  3.06611628e+00, -4.32335474e-02,\n",
       "       -7.54513094e+00,  1.47026459e+02,  1.81795736e+02,  2.18552813e+02,\n",
       "        3.56022016e+00,  3.64561894e+01,  4.84700091e+01,  1.60101686e+02,\n",
       "        1.39576564e+02,  4.30052854e+01, -3.17196361e+01, -6.06660668e+01,\n",
       "        5.02476398e+01,  3.31379628e+01,  6.41735340e+00,  4.99945013e+01,\n",
       "        3.49754438e+01,  7.57542960e+01,  3.12810873e+02,  7.07874133e+01,\n",
       "        1.41691786e+01, -8.72457329e+00,  7.80319751e+01,  2.10078797e+01,\n",
       "        5.13490079e+01,  1.48263823e+02, -1.90128775e+00,  5.35206698e+01,\n",
       "        2.73414545e+02,  6.18387117e+01,  3.27552892e+01,  4.48437308e+01,\n",
       "        4.36296163e+01,  8.20667413e+01,  1.27977495e+01,  2.63417647e+01,\n",
       "       -9.88392123e+00,  6.16345533e+01,  9.74933778e+01,  2.95259787e+02,\n",
       "        6.67576400e+00, -6.43345193e+00,  5.33847142e+00,  1.06586790e+02,\n",
       "        6.79640694e+00,  6.36505298e+01,  1.29483921e+02,  1.46899790e+02,\n",
       "        1.58206523e+01,  3.77698737e+01,  4.63632918e+01,  4.57869194e+01,\n",
       "        1.13704275e+02,  5.87502431e+01,  7.65703759e+01,  4.77270879e+01,\n",
       "        3.33714862e+00,  1.25047195e+02,  1.49194328e+02,  6.36909398e+01,\n",
       "        3.02331674e+01,  2.69255103e+01,  4.99833766e+01,  1.35746604e+01,\n",
       "        1.30288530e+01,  3.17429067e+02,  2.20425260e+01, -1.09582480e+01,\n",
       "        3.72616736e+02,  4.84163172e+01,  2.92039740e+02,  1.06754822e+02,\n",
       "        4.37702675e+01,  4.90659912e+01, -2.27741155e+01,  1.80658021e+02,\n",
       "        1.53021012e+02,  1.02154209e+02, -1.79905171e+01,  6.20266200e+01,\n",
       "        1.58891471e+01,  6.49087168e+01,  6.47563876e+01,  2.56514299e+01,\n",
       "        7.77606612e+00,  1.47573976e+02,  1.27348152e+02,  3.20019978e+01,\n",
       "        1.26122912e+02,  1.21561510e+02,  4.49853377e+01,  3.89346519e+01,\n",
       "        7.14999844e+01,  1.10959884e+02,  4.05806728e+00,  1.13092688e+02,\n",
       "        1.08544789e+02,  3.17402344e+01,  1.06340132e+02,  4.71547957e+01,\n",
       "        1.09103843e+02,  6.25758166e+01,  6.64709522e+00, -8.26351039e+00,\n",
       "        1.26388464e+02, -1.20029322e+00,  3.41385526e+01,  2.98505313e+02,\n",
       "        3.17197805e+01,  3.22027791e+01,  7.47385502e+01, -2.86308384e+00,\n",
       "        2.95826506e+01,  2.39532050e+02,  7.52205758e+01,  1.39443291e+02,\n",
       "        4.03577924e+01,  1.13443053e+02,  6.62570371e+01,  5.48737618e+01,\n",
       "        2.13183408e+02, -2.76483097e+01,  2.80692676e+01,  1.89614152e+02,\n",
       "       -1.15666673e+01, -3.28516606e+01,  9.83644775e+01,  2.02698940e+02,\n",
       "        1.88707518e+01, -3.89186415e+00,  1.25226033e+02,  1.62247677e+02,\n",
       "        1.08135686e+02,  1.95751425e+02,  1.07454971e+02,  5.03034982e+01,\n",
       "        1.48184126e+02,  2.40623786e+02, -1.11752755e+00,  6.97273715e+01,\n",
       "        1.43756764e+02,  5.58231742e+01,  1.45273923e+02,  5.42439732e+01,\n",
       "       -1.54935087e+01,  7.65873804e+01,  1.84708074e+02, -3.27494383e+01,\n",
       "        1.22025506e+01,  1.08373715e+02,  3.05239191e+02,  6.09935803e+01,\n",
       "        1.47965371e+02, -8.98760282e+00,  8.35243577e-01,  6.30693160e+01,\n",
       "        3.77609390e+01,  3.36449672e+01,  4.67984533e+00,  8.05900109e+01,\n",
       "        4.12337430e+01, -3.49997768e+00,  1.17694563e+02,  5.97684957e+01,\n",
       "        3.81972662e+02,  1.30982442e+02,  8.64811093e+01,  9.12387756e+01,\n",
       "       -1.94354433e+00,  4.60863988e+01,  1.61990399e+01,  8.77317129e+01,\n",
       "        6.13421343e+01, -1.22881756e+00,  2.08707164e+01,  1.28645888e+02,\n",
       "        5.29711488e+01,  4.43544630e+01,  1.32198131e+02,  2.33651349e+01,\n",
       "        9.74517108e+01,  5.19962506e+01,  3.77847545e+01,  1.48682028e+02,\n",
       "        5.34121671e+01,  2.50838746e+01,  3.10924437e+01,  1.09508775e+02,\n",
       "        1.09164913e+02,  1.44996116e+02,  1.81497549e+01,  3.29375562e+01,\n",
       "        2.19957752e+01,  7.84167957e+01,  1.67142260e+02,  1.24379319e+02,\n",
       "        9.28758538e+00,  1.82955038e+02,  7.92568170e+01,  7.66078963e+01,\n",
       "        1.18250020e+02, -1.55694819e+00,  2.85229954e+01,  2.36032615e+02,\n",
       "        1.55970344e+02,  1.12953508e+02,  6.94497118e+01,  2.38710925e+01,\n",
       "        1.81710559e+02,  2.72899237e+01,  1.44180157e+02,  6.89395674e+01,\n",
       "        1.22160434e+02])"
      ]
     },
     "execution_count": 196,
     "metadata": {},
     "output_type": "execute_result"
    }
   ],
   "source": [
    "# predicting for the train data\n",
    "\n",
    "y_train_pred = LR.predict(X_train)\n",
    "y_train_pred"
   ]
  },
  {
   "cell_type": "code",
   "execution_count": 197,
   "id": "48cdc921",
   "metadata": {
    "colab": {
     "base_uri": "https://localhost:8080/",
     "height": 674
    },
    "id": "48cdc921",
    "outputId": "4de64f6f-7eb4-4cf3-f2df-e739959a023b"
   },
   "outputs": [
    {
     "data": {
      "text/plain": [
       "<AxesSubplot: xlabel='gross', ylabel='Count'>"
      ]
     },
     "execution_count": 197,
     "metadata": {},
     "output_type": "execute_result"
    },
    {
     "data": {
      "image/png": "[encoded data removed]",
      "text/plain": [
       "<Figure size 2000x1000 with 1 Axes>"
      ]
     },
     "metadata": {},
     "output_type": "display_data"
    }
   ],
   "source": [
    "# By below distplot we can find out that the predicted values are likely to the actual values\n",
    "\n",
    "plt.figure(figsize=(20,10))\n",
    "sns.histplot(y_train-y_train_pred)"
   ]
  },
  {
   "cell_type": "code",
   "execution_count": 198,
   "id": "56aebc79",
   "metadata": {
    "id": "56aebc79"
   },
   "outputs": [
    {
     "data": {
      "text/plain": [
       "array([ 5.27307960e+01,  4.18513205e+01,  1.16400699e+01,  1.03751214e+02,\n",
       "        2.25115910e+02,  3.56390197e+00, -1.01205921e+01,  7.22184698e+01,\n",
       "        4.14768280e+01, -1.49622410e+01,  5.36252180e+01,  1.01907864e+02,\n",
       "        2.29906618e+02,  9.00576787e+00,  2.29192442e+00,  3.99506365e+01,\n",
       "        2.62050533e+01,  6.80152535e+01,  5.20329461e+01,  2.02821341e+02,\n",
       "        6.64073554e+01,  1.60637328e+02,  1.09053074e+02,  5.59992098e+01,\n",
       "        5.71916935e+01,  6.81006806e+01,  1.75232960e+02, -1.55614691e+01,\n",
       "        2.17271985e+02,  1.99900646e+02,  2.05753991e+02,  5.76369100e+01,\n",
       "        7.14428376e+01,  1.39088294e+02,  1.01243128e+02,  2.16683516e+01,\n",
       "        1.45626723e+02,  3.51766156e+01,  2.72699121e+02,  6.30136539e+01,\n",
       "        6.43399927e+01, -3.68057305e+01,  3.90430599e+01,  6.66997197e+01,\n",
       "        1.17632930e+02,  5.15810550e+01,  8.21609507e+01, -1.35657654e+01,\n",
       "        5.67360793e+01,  2.94812136e+01,  2.07762348e+02,  4.95154256e+01,\n",
       "        1.60824295e+02,  2.37447415e+01,  6.06138900e+01,  1.43254188e+02,\n",
       "        1.92884475e+02,  4.46270952e+01,  1.17025036e+02,  2.14922152e+02,\n",
       "        4.57880567e+01,  1.30764599e+02,  3.80935005e+01,  1.38794884e+01,\n",
       "        1.89082231e+02,  6.30582771e+01,  1.41317564e+02,  1.00266570e+02,\n",
       "        6.62957854e+01,  2.59048026e+02,  6.62683524e+01,  1.39669886e+02,\n",
       "        1.34894273e+01,  5.91895768e+01,  4.77309323e+01,  6.05471444e+01,\n",
       "        3.27536243e+01,  1.21067447e+02,  1.05341488e+02,  1.66895804e+01,\n",
       "        1.03781145e+01,  1.53783253e+02,  2.78354638e+02,  1.52732194e+01,\n",
       "        1.95272589e+02,  1.13456013e+02,  5.25599426e-01,  1.70841689e+02,\n",
       "        1.69302972e+02,  3.66287218e+01,  3.55629593e+01,  9.31541177e+01,\n",
       "        3.20583353e+02,  6.71445601e+00,  1.45162538e+02,  7.03716059e+00,\n",
       "        9.27116549e+01,  1.04639533e+02,  2.27069934e+01,  5.85771702e+01,\n",
       "       -5.00338471e+01,  8.43618640e+00,  1.30819222e+02,  2.87245474e+01,\n",
       "        3.05828912e+01, -2.65266743e+01,  1.55086872e+01,  1.01892883e+02,\n",
       "        1.50787314e+02,  6.73530839e+01,  3.72287881e+01, -4.05874609e+01,\n",
       "        4.30287572e+01, -6.87500855e+01, -8.09164349e+00,  6.20437440e+01,\n",
       "        8.41065370e+01,  6.27589328e+01,  7.12205342e+01,  1.79758911e+01,\n",
       "        1.39353279e+02,  1.01448017e+02,  5.10200651e+01,  1.76333946e+02,\n",
       "        1.72992166e+01, -8.13392800e-01,  3.55003232e+01,  4.96430323e+01,\n",
       "        6.30168812e+01,  1.47608270e+02,  6.47231846e+01,  1.99409212e+01,\n",
       "        6.52133995e+01,  2.79539870e+02,  8.06131389e-02,  9.40578975e+00,\n",
       "        3.62808731e+01,  8.66256798e+01,  2.22991259e+01,  1.35690608e+02,\n",
       "        4.93130027e+01,  8.51993144e+00,  3.15098091e+01, -1.73427148e+00,\n",
       "        1.41805986e+02,  1.87601233e+01, -2.14542971e+01,  3.82374952e+01,\n",
       "        4.80523629e+01,  9.58549442e+01])"
      ]
     },
     "execution_count": 198,
     "metadata": {},
     "output_type": "execute_result"
    }
   ],
   "source": [
    "y_test_pred = LR.predict(X_test)\n",
    "y_test_pred"
   ]
  },
  {
   "cell_type": "code",
   "execution_count": 199,
   "id": "27037583",
   "metadata": {
    "colab": {
     "base_uri": "https://localhost:8080/",
     "height": 674
    },
    "id": "27037583",
    "outputId": "0513f5ad-8f38-4022-e39d-c69181b4fd82"
   },
   "outputs": [
    {
     "data": {
      "text/plain": [
       "752   -52.650796\n",
       "775    -40.98132\n",
       "719     -7.28007\n",
       "371   -46.381214\n",
       "23      -8.57591\n",
       "         ...    \n",
       "641   -13.630123\n",
       "298    25.504297\n",
       "174   -14.857495\n",
       "674    13.227637\n",
       "105   -49.494944\n",
       "Name: gross, Length: 150, dtype: object"
      ]
     },
     "execution_count": 199,
     "metadata": {},
     "output_type": "execute_result"
    },
    {
     "data": {
      "image/png": "[encoded data removed]",
      "text/plain": [
       "<Figure size 2000x1000 with 1 Axes>"
      ]
     },
     "metadata": {},
     "output_type": "display_data"
    }
   ],
   "source": [
    "# By below distplot we can find out that the predicted values are likely to the actual values\n",
    "\n",
    "plt.figure(figsize=(20,10))\n",
    "a=y_test - y_test_pred\n",
    "sns.histplot(y_test - y_test_pred)\n",
    "a"
   ]
  },
  {
   "cell_type": "code",
   "execution_count": 200,
   "id": "1q8hdteAYaez",
   "metadata": {
    "id": "1q8hdteAYaez"
   },
   "outputs": [],
   "source": [
    "from sklearn.metrics import mean_squared_error,r2_score"
   ]
  },
  {
   "cell_type": "code",
   "execution_count": 201,
   "id": "udAfKsVtYjfV",
   "metadata": {
    "colab": {
     "base_uri": "https://localhost:8080/"
    },
    "id": "udAfKsVtYjfV",
    "outputId": "b7dea055-0cce-479f-ca17-3e70197cd04c"
   },
   "outputs": [
    {
     "data": {
      "text/plain": [
       "70.4781882284528"
      ]
     },
     "execution_count": 201,
     "metadata": {},
     "output_type": "execute_result"
    }
   ],
   "source": [
    "mean_squared_error(y_test, y_test_pred, squared=False)"
   ]
  },
  {
   "cell_type": "code",
   "execution_count": 202,
   "id": "gY1T3RYFY-eO",
   "metadata": {
    "colab": {
     "base_uri": "https://localhost:8080/"
    },
    "id": "gY1T3RYFY-eO",
    "outputId": "907c3384-e979-42c9-b3ea-6ab6b6bad354"
   },
   "outputs": [
    {
     "data": {
      "text/plain": [
       "0.283954237908681"
      ]
     },
     "execution_count": 202,
     "metadata": {},
     "output_type": "execute_result"
    }
   ],
   "source": [
    "r2_score(y_test, y_test_pred)"
   ]
  }
 ],
 "metadata": {
  "colab": {
   "provenance": []
  },
  "kernelspec": {
   "display_name": "Python 3 (ipykernel)",
   "language": "python",
   "name": "python3"
  },
  "language_info": {
   "codemirror_mode": {
    "name": "ipython",
    "version": 3
   },
   "file_extension": ".py",
   "mimetype": "text/x-python",
   "name": "python",
   "nbconvert_exporter": "python",
   "pygments_lexer": "ipython3",
   "version": "3.9.7"
  },
  "vscode": {
   "interpreter": {
    "hash": "369f2c481f4da34e4445cda3fffd2e751bd1c4d706f27375911949ba6bb62e1c"
   }
  }
 },
 "nbformat": 4,
 "nbformat_minor": 5
}
